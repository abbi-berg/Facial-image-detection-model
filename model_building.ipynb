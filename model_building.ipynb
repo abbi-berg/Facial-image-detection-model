{
  "cells": [
    {
      "cell_type": "markdown",
      "metadata": {
        "id": "view-in-github",
        "colab_type": "text"
      },
      "source": [
        "<a href=\"https://colab.research.google.com/github/abbi-berg/Facial-image-detection-model/blob/main/model_building.ipynb\" target=\"_parent\"><img src=\"https://colab.research.google.com/assets/colab-badge.svg\" alt=\"Open In Colab\"/></a>"
      ]
    },
    {
      "cell_type": "markdown",
      "metadata": {
        "id": "bg-DvjFCyXSr"
      },
      "source": [
        "# **Facial Emotion Detection**"
      ]
    },
    {
      "cell_type": "markdown",
      "metadata": {
        "id": "DYdEI31whyE-"
      },
      "source": [
        "## **Problem Definition**\n",
        "\n",
        "### **Context:** <br>\n",
        "Deep learning enables the analysis of unstructured data, including image data for emotion detection. Emotion AI focuses on developing systems that can understand and respond to human emotions by analyzing facial expressions and other cues. Accurate facial emotion recognition systems could enable mental health diagnostics, improve customer service platforms, and help businesses make decisions based on customers’ perceptions of products in stores or restaurants.\n",
        "<br>\n",
        "\n",
        "### **Objectives:**<br>\n",
        "The objective of this project is to leverage deep learning and artificial intelligence techniques to develop a computer vision model capable of accurately detecting facial emotions. The model will perform multi-class classification on images of facial expressions, categorizing them according to the associated emotions. <br>\n",
        "\n",
        "### **Key questions:**<br>\n",
        "- What preprocessing steps are necessary to ensure the quality and consistency of the images?\n",
        "- Which deep learning architectures are best suited for facial emotion recognition?\n",
        "- How will the model be trained and validated?\n",
        "- Can we leverage pretrained model to improve the model performance?\n",
        "- Should we perform data augmentation and what effect will this have on the model performance?\n",
        "- How will overfitting be prevented during training?\n",
        "- How can we deploy this model for real-world application?\n",
        "- What will be the limitations of the model?\n",
        "- How will privacy and ethical concerns be addressed when using facial emotion recognition technology?\n",
        "\n",
        "### **Problem formulation:**\n",
        "- Are we able to detect emotion accurately in facial images?\n",
        "- The problem is that human emotion is complex and multifaceted. People have different ways of showing emotion. Can we find the generalize patterns to detect emotion across many people?\n",
        "\n",
        "\n",
        "### **Dataset**\n",
        "\n",
        "The data set consists of 3 folders, i.e., 'test', 'train', and 'validation'.\n",
        "Each of these folders has four subfolders:\n",
        "\n",
        "**‘happy’**: Images of people who have happy facial expressions.<br>\n",
        "**‘sad’**: Images of people with sad or upset facial expressions.<br>\n",
        "**‘surprise’**: Images of people who have shocked or surprised facial expressions.<br>\n",
        "**‘neutral’**: Images of people showing no prominent emotion in their facial expression at all.<br>\n"
      ]
    },
    {
      "cell_type": "markdown",
      "metadata": {
        "id": "HDM89XHyCxrA"
      },
      "source": [
        "## **Mounting the Drive**\n",
        "\n",
        "**NOTE:**  Please use Google Colab from your browser for this notebook. **Google.colab is NOT a library that can be downloaded locally on your device.**"
      ]
    },
    {
      "cell_type": "code",
      "source": [
        "import warnings\n",
        "warnings.filterwarnings(\"ignore\")"
      ],
      "metadata": {
        "id": "XKi2UMJKhLZr"
      },
      "execution_count": null,
      "outputs": []
    },
    {
      "cell_type": "code",
      "execution_count": null,
      "metadata": {
        "id": "JQi_degJC3dm",
        "colab": {
          "base_uri": "https://localhost:8080/"
        },
        "outputId": "46102815-ab66-492f-f2d0-b1a2f434bff4"
      },
      "outputs": [
        {
          "output_type": "stream",
          "name": "stdout",
          "text": [
            "Mounted at /content/drive\n"
          ]
        }
      ],
      "source": [
        "from google.colab import drive\n",
        "drive.mount('/content/drive')"
      ]
    },
    {
      "cell_type": "markdown",
      "metadata": {
        "id": "UC8-yLUUCcWh"
      },
      "source": [
        "## **Importing the Libraries**"
      ]
    },
    {
      "cell_type": "code",
      "execution_count": null,
      "metadata": {
        "id": "30fd2144"
      },
      "outputs": [],
      "source": [
        "# To set up neural networks\n",
        "import tensorflow as tf\n",
        "\n",
        "# To create ANN model\n",
        "from tensorflow.keras.models import Sequential\n",
        "from tensorflow.keras.layers import Dense, Dropout\n",
        "from keras.layers import BatchNormalization\n",
        "\n",
        "# For data manipulation\n",
        "import numpy as np\n",
        "import pandas as pd\n",
        "\n",
        "# To visualize images\n",
        "import matplotlib.pyplot as plt\n",
        "\n",
        "# To visualize prediction data\n",
        "import seaborn as sns\n",
        "\n",
        "# To load SVHN dataset\n",
        "import h5py\n",
        "\n",
        "#To create confusion matrix\n",
        "from sklearn.metrics import confusion_matrix\n",
        "from sklearn.metrics import classification_report\n",
        "\n",
        "#interact with opperating system\n",
        "import os\n",
        "\n",
        "# Open Source Computer Vision Library\n",
        "import cv2"
      ]
    },
    {
      "cell_type": "markdown",
      "metadata": {
        "id": "nCqJk2XpCnJi"
      },
      "source": [
        "### **Unzip the data**"
      ]
    },
    {
      "cell_type": "code",
      "execution_count": null,
      "metadata": {
        "id": "sMfr4tK04C0o"
      },
      "outputs": [],
      "source": [
        "#Load images from zip file\n",
        "import zipfile\n",
        "\n",
        "# Extract files from zip file\n",
        "with zipfile.ZipFile('drive/MyDrive/Facial_emotion_images.zip', 'r') as zip:\n",
        "    zip.extractall()"
      ]
    },
    {
      "cell_type": "markdown",
      "metadata": {
        "id": "YpkYTD705Eky"
      },
      "source": [
        "## **Visualize Dataset**"
      ]
    },
    {
      "cell_type": "markdown",
      "metadata": {
        "id": "Mb59IxA35WF-"
      },
      "source": [
        "### **Happy**"
      ]
    },
    {
      "cell_type": "code",
      "execution_count": null,
      "metadata": {
        "id": "Ul8xn7M-sDcn",
        "outputId": "e2addfa1-a722-4048-fea2-fc556c0355a8",
        "colab": {
          "base_uri": "https://localhost:8080/",
          "height": 643
        }
      },
      "outputs": [
        {
          "output_type": "display_data",
          "data": {
            "text/plain": [
              "<Figure size 800x800 with 9 Axes>"
            ],
            "image/png": "[encoded data removed]"
          },
          "metadata": {}
        }
      ],
      "source": [
        "import cv2\n",
        "\n",
        "# Define the expression and folder path\n",
        "expression = 'happy'\n",
        "folder_path = 'Facial_emotion_images/'\n",
        "\n",
        "# Define the picture size\n",
        "picture_size = 48\n",
        "\n",
        "# Create a figure for displaying images\n",
        "plt.figure(figsize=(8, 8))\n",
        "\n",
        "# Loop to display 9 images\n",
        "for i in range(1, 10):\n",
        "    plt.subplot(3, 3, i)\n",
        "\n",
        "    # Construct the image path\n",
        "    img_path = os.path.join(folder_path, \"train\", expression, os.listdir(os.path.join(folder_path, \"train\", expression))[i])\n",
        "\n",
        "    # Load the image\n",
        "    img = cv2.imread(img_path)\n",
        "    img = cv2.resize(img, (picture_size, picture_size))\n",
        "    img = cv2.cvtColor(img, cv2.COLOR_BGR2RGB)\n",
        "\n",
        "    # Display the image\n",
        "    plt.imshow(img)\n",
        "    plt.axis('off')\n",
        "\n",
        "# Show the plot\n",
        "plt.show()"
      ]
    },
    {
      "cell_type": "markdown",
      "metadata": {
        "id": "RWYioRFM5jMJ"
      },
      "source": [
        "**Observations and Insights:**\n",
        "- The corners of the mouth are tuned up.\n",
        "- Teeth are visible in most photos.\n",
        "- Cheeks are often raised.\n",
        "- The eyes are lively and bright.\n",
        "- You could argue that the middle image looks more so neutral, but is slightly ambiguous."
      ]
    },
    {
      "cell_type": "markdown",
      "metadata": {
        "id": "28ZzJwIK6HTH"
      },
      "source": [
        "### **Sad**"
      ]
    },
    {
      "cell_type": "code",
      "execution_count": null,
      "metadata": {
        "id": "4n0oXebe6b0g",
        "outputId": "83a3c363-fc7b-469a-e8ed-c3ceba5fbe42",
        "colab": {
          "base_uri": "https://localhost:8080/",
          "height": 643
        }
      },
      "outputs": [
        {
          "output_type": "display_data",
          "data": {
            "text/plain": [
              "<Figure size 800x800 with 9 Axes>"
            ],
            "image/png": "[encoded data removed]"
          },
          "metadata": {}
        }
      ],
      "source": [
        "import os\n",
        "import cv2\n",
        "import matplotlib.pyplot as plt\n",
        "\n",
        "# Define the expression and folder path\n",
        "expression = 'sad'\n",
        "folder_path = 'Facial_emotion_images/'\n",
        "\n",
        "# Define the picture size\n",
        "picture_size = 48\n",
        "\n",
        "# Create a figure for displaying images\n",
        "plt.figure(figsize=(8, 8))\n",
        "\n",
        "# Loop to display 9 images\n",
        "for i in range(1, 10):\n",
        "    plt.subplot(3, 3, i)\n",
        "\n",
        "    # Construct the image path\n",
        "    img_path = os.path.join(folder_path, \"train\", expression, os.listdir(os.path.join(folder_path, \"train\", expression))[i])\n",
        "\n",
        "    # Load the image\n",
        "    img = cv2.imread(img_path)\n",
        "    img = cv2.resize(img, (picture_size, picture_size))\n",
        "    img = cv2.cvtColor(img, cv2.COLOR_BGR2RGB)\n",
        "\n",
        "    # Display the image\n",
        "    plt.imshow(img)\n",
        "    plt.axis('off')\n",
        "\n",
        "# Show the plot\n",
        "plt.show()"
      ]
    },
    {
      "cell_type": "markdown",
      "metadata": {
        "id": "5BpviSLK6mLO"
      },
      "source": [
        "**Observations and Insights:**\n",
        "- In all photos, the individuals have their lips closed.\n",
        "- In most photos, the eyes are not directed at the camera.\n",
        "- Some individuals have their eyes closed.\n",
        "- Some individuals are looking down.\n",
        "- All are frowning."
      ]
    },
    {
      "cell_type": "markdown",
      "metadata": {
        "id": "8D3nRj8x7gjK"
      },
      "source": [
        "### **Neutral**"
      ]
    },
    {
      "cell_type": "code",
      "execution_count": null,
      "metadata": {
        "id": "M9bRAog_7qPl",
        "outputId": "32f91a12-ac81-4287-90d2-094dd0a29038",
        "colab": {
          "base_uri": "https://localhost:8080/",
          "height": 643
        }
      },
      "outputs": [
        {
          "output_type": "display_data",
          "data": {
            "text/plain": [
              "<Figure size 800x800 with 9 Axes>"
            ],
            "image/png": "[encoded data removed]"
          },
          "metadata": {}
        }
      ],
      "source": [
        "import os\n",
        "import cv2\n",
        "import matplotlib.pyplot as plt\n",
        "\n",
        "# Define the expression and folder path\n",
        "expression = 'neutral'\n",
        "folder_path = 'Facial_emotion_images/'\n",
        "\n",
        "# Define the picture size\n",
        "picture_size = 48\n",
        "\n",
        "# Create a figure for displaying images\n",
        "plt.figure(figsize=(8, 8))\n",
        "\n",
        "# Loop to display 9 images\n",
        "for i in range(1, 10):\n",
        "    plt.subplot(3, 3, i)\n",
        "\n",
        "    # Construct the image path\n",
        "    img_path = os.path.join(folder_path, \"train\", expression, os.listdir(os.path.join(folder_path, \"train\", expression))[i])\n",
        "\n",
        "    # Load the image\n",
        "    img = cv2.imread(img_path)\n",
        "    img = cv2.resize(img, (picture_size, picture_size))\n",
        "    img = cv2.cvtColor(img, cv2.COLOR_BGR2RGB)\n",
        "\n",
        "    # Display the image\n",
        "    plt.imshow(img)\n",
        "    plt.axis('off')\n",
        "\n",
        "# Show the plot\n",
        "plt.show()"
      ]
    },
    {
      "cell_type": "markdown",
      "metadata": {
        "id": "AjvfkXFE70Wa"
      },
      "source": [
        "**Observations and Insights:**\n",
        "- Lip crease is flat line\n",
        "- Most photos do not show teeth, maintaining a neutral expression. However, the photo in the top right corner looks more like he is tired.\n",
        "- The facial muscles appear relaxed, with no pronounced tension or movement.\n"
      ]
    },
    {
      "cell_type": "markdown",
      "metadata": {
        "id": "avUJfLm08cgt"
      },
      "source": [
        "### **Surprised**"
      ]
    },
    {
      "cell_type": "code",
      "execution_count": null,
      "metadata": {
        "id": "tDrkuxNm8mWE",
        "outputId": "beb1e5a3-01c5-4403-afd7-9f65df10fb79",
        "colab": {
          "base_uri": "https://localhost:8080/",
          "height": 643
        }
      },
      "outputs": [
        {
          "output_type": "display_data",
          "data": {
            "text/plain": [
              "<Figure size 800x800 with 9 Axes>"
            ],
            "image/png": "[encoded data removed]"
          },
          "metadata": {}
        }
      ],
      "source": [
        "import os\n",
        "import cv2\n",
        "import matplotlib.pyplot as plt\n",
        "\n",
        "# Define the expression and folder path\n",
        "expression = 'surprise'\n",
        "folder_path = 'Facial_emotion_images/'\n",
        "\n",
        "# Define the picture size\n",
        "picture_size = 48\n",
        "\n",
        "# Create a figure for displaying images\n",
        "plt.figure(figsize=(8, 8))\n",
        "\n",
        "# Loop to display 9 images\n",
        "for i in range(1, 10):\n",
        "    plt.subplot(3, 3, i)\n",
        "\n",
        "    # Construct the image path\n",
        "    img_path = os.path.join(folder_path, \"train\", expression, os.listdir(os.path.join(folder_path, \"train\", expression))[i])\n",
        "\n",
        "    # Load the image\n",
        "    img = cv2.imread(img_path)\n",
        "    img = cv2.resize(img, (picture_size, picture_size))\n",
        "    img = cv2.cvtColor(img, cv2.COLOR_BGR2RGB)\n",
        "\n",
        "    # Display the image\n",
        "    plt.imshow(img)\n",
        "    plt.axis('off')\n",
        "\n",
        "# Show the plot\n",
        "plt.show()"
      ]
    },
    {
      "cell_type": "markdown",
      "metadata": {
        "id": "RTnBsUNH_djf"
      },
      "source": [
        "**Observations and Insights:**\n",
        "- Many of the images feature individuals with open mouths and/or hands on their face.\n",
        "- All images show wide eyes.\n",
        "- Eyebrows are typically raised high on the forehead.\n",
        "- The mouth is usually open, forming an “O” shape.\n",
        "- Nostrils are often flared."
      ]
    },
    {
      "cell_type": "markdown",
      "metadata": {
        "id": "m0ZNIwHjsDcp"
      },
      "source": [
        "**Additional Observations:**\n",
        "- Of the 36 pictures displayed, 23 were of women. If this trend is consistent throughout the dataset, it could introduce gender bias into the model."
      ]
    },
    {
      "cell_type": "markdown",
      "metadata": {
        "id": "ZZMfyOH4-YSp"
      },
      "source": [
        "## **Checking Distribution of Classes**"
      ]
    },
    {
      "cell_type": "code",
      "execution_count": null,
      "metadata": {
        "id": "m7rCOsTl-HbZ",
        "outputId": "d46236ae-8d20-43e3-cd4d-4d92482ef4d5",
        "colab": {
          "base_uri": "https://localhost:8080/"
        }
      },
      "outputs": [
        {
          "output_type": "stream",
          "name": "stdout",
          "text": [
            "\n",
            "Test Subfolder:\n",
            "  Happy: 32 images\n",
            "  Neutral: 32 images\n",
            "  Sad: 32 images\n",
            "  Surprise: 32 images\n",
            "\n",
            "Train Subfolder:\n",
            "  Happy: 3976 images\n",
            "  Neutral: 3978 images\n",
            "  Sad: 3982 images\n",
            "  Surprise: 3173 images\n",
            "\n",
            "Validation Subfolder:\n",
            "  Happy: 1825 images\n",
            "  Neutral: 1216 images\n",
            "  Sad: 1139 images\n",
            "  Surprise: 797 images\n"
          ]
        }
      ],
      "source": [
        "#Inspect images\n",
        "os.listdir('Facial_emotion_images/validation/')\n",
        "#Images are seperated into test, train and validation sets\n",
        "\n",
        "# Main directory\n",
        "main_dir = 'Facial_emotion_images/'\n",
        "\n",
        "# Image sets\n",
        "subfolders = ['test', 'train', 'validation']\n",
        "\n",
        "# Image categories\n",
        "categories = ['happy', 'neutral', 'sad', 'surprise']\n",
        "\n",
        "# Supported image file extensions\n",
        "image_extensions = ('.jpg', '.jpeg', '.png', '.gif', '.bmp')\n",
        "\n",
        "# Function to count images in a folder\n",
        "def count_images(folder_path):\n",
        "    return sum(1 for file in os.listdir(folder_path) if file.endswith(image_extensions))\n",
        "\n",
        "# Iterate through each subfolder and category to count images\n",
        "for subfolder in subfolders:\n",
        "    print(f\"\\n{subfolder.capitalize()} Subfolder:\")\n",
        "    for category in categories:\n",
        "        category_path = os.path.join(main_dir, subfolder, category)\n",
        "        num_images = count_images(category_path)\n",
        "        print(f\"  {category.capitalize()}: {num_images} images\")"
      ]
    },
    {
      "cell_type": "code",
      "execution_count": null,
      "metadata": {
        "id": "BrnabAeTsDcp",
        "outputId": "4f51e8fc-4bc7-4345-c9d4-ebb16e453f9b",
        "colab": {
          "base_uri": "https://localhost:8080/",
          "height": 356
        }
      },
      "outputs": [
        {
          "output_type": "display_data",
          "data": {
            "text/plain": [
              "<Figure size 1200x600 with 1 Axes>"
            ],
            "image/png": "[encoded data removed]"
          },
          "metadata": {}
        }
      ],
      "source": [
        "import matplotlib.pyplot as plt\n",
        "import numpy as np\n",
        "\n",
        "classes = ['Happy', 'Neutral', 'Sad', 'Surprise']\n",
        "train_counts = [3976, 3978, 3982, 3173]\n",
        "val_counts = [1825, 1216, 1139, 797]\n",
        "test_counts = [32, 32, 32, 32]\n",
        "\n",
        "bar_width = 0.2\n",
        "index = np.arange(len(classes))\n",
        "\n",
        "plt.figure(figsize=(12, 6))\n",
        "plt.bar(index, train_counts, bar_width, alpha=0.6, label='Train')\n",
        "plt.bar(index + bar_width, val_counts, bar_width, alpha=0.6, label='Validation')\n",
        "plt.bar(index + 2 * bar_width, test_counts, bar_width, alpha=0.6, label='Test')\n",
        "\n",
        "plt.xlabel('Classes')\n",
        "plt.ylabel('Number of Images')\n",
        "plt.title('Class Distribution in Train, Validation, and Test Sets')\n",
        "plt.xticks(index + bar_width, classes)\n",
        "plt.legend()\n",
        "plt.show()"
      ]
    },
    {
      "cell_type": "code",
      "execution_count": null,
      "metadata": {
        "id": "mxj3Px3_sDcq",
        "outputId": "1f02ca47-349d-46ec-a4aa-171d0714ba26",
        "colab": {
          "base_uri": "https://localhost:8080/"
        }
      },
      "outputs": [
        {
          "output_type": "stream",
          "name": "stdout",
          "text": [
            "Training Set Class Percentages: [26.31544112780462, 26.328678271229066, 26.355152558077965, 21.000728042888344]\n",
            "Validation Set Class Percentages: [36.668675909182234, 24.432388989351015, 22.88527225236086, 16.013662849105888]\n"
          ]
        }
      ],
      "source": [
        "total_train = sum(train_counts)\n",
        "total_val = sum(val_counts)\n",
        "\n",
        "train_percentages = [count / total_train * 100 for count in train_counts]\n",
        "val_percentages = [count / total_val * 100 for count in val_counts]\n",
        "\n",
        "print(\"Training Set Class Percentages:\", train_percentages)\n",
        "print(\"Validation Set Class Percentages:\", val_percentages)"
      ]
    },
    {
      "cell_type": "markdown",
      "metadata": {
        "id": "reZRpnmv8qPL"
      },
      "source": [
        "**Observations and Insights:**\n",
        "- The test set is significantly smaller than the other datasets. This is risky because the test set may not be a statistically significant sample of the dataset and may not reliably capture the variability in the data. As a result, our performance metrics may not be as reliable. We could adjust the distribution so that the test set is closer to 20% of the combined test and training dataset.\n",
        "- There is a noticeable imbalance, particularly with the “Surprise” class within both the training and validation sets having fewer images compared to the others. This limited data could hinder the model’s ability to accurately detect the “Surprise” category.\n",
        "- The “Neutral” and “Sad” classes have a relatively balanced number of images in the training set, but the validation set shows a noticeable drop in the number of “Neutral” images compared to “Happy” and “Sad”.\n"
      ]
    },
    {
      "cell_type": "markdown",
      "metadata": {
        "id": "mfJnIxXC80uZ"
      },
      "source": [
        "#### **Think About It:**\n",
        "* **Are the classes equally distributed? If not, do you think the imbalance is too high? Will it be a problem as we progress?**\n",
        "    - As mentioned above, we do have some concerns with the balance of the classes in the Train and Validation datasets. It will be important to monitor this imbalance and test methods to minimize its effect on the model performance. Some methods to manage imbalanced datasets include:\n",
        "    \n",
        "        - **Use F1 Score:** The F1 score balances both precision (the accuracy of positive predictions) and recall (the ability to find positive instances). This ensures a more comprehensive assessment of the model’s effectiveness across all classes.\n",
        "        \n",
        "        - **Sampling Techniques:** We could deploy oversampling or undersampling to balance the dataset.\n",
        "            - To **oversample** we could deploy random oversampling which would duplicate images from the minority class.\n",
        "            - **Undersampling:**  we could reduce the number of instances in the majority classes to match the number in the minority class.\n",
        "            \n",
        "* **Are there any Exploratory Data Analysis tasks that we can do here? Would they provide any meaningful insights?**\n",
        "    - class distribution\n",
        "    - look at the images\n",
        "    - image quality and size\n"
      ]
    },
    {
      "cell_type": "code",
      "execution_count": null,
      "metadata": {
        "id": "rbVLrHpdsDcq",
        "outputId": "6cc70066-4c68-4294-a680-edee4a238ab3",
        "colab": {
          "base_uri": "https://localhost:8080/"
        }
      },
      "outputs": [
        {
          "output_type": "stream",
          "name": "stdout",
          "text": [
            "\n",
            "Test Subfolder:\n",
            "Happy - 15817.jpg: (48, 48)\n",
            "Happy - 15789.jpg: (48, 48)\n",
            "Happy - 15705.jpg: (48, 48)\n",
            "Happy - 15852.jpg: (48, 48)\n",
            "Happy - 15710.jpg: (48, 48)\n",
            "Happy - 15810.jpg: (48, 48)\n",
            "Happy - 15781.jpg: (48, 48)\n",
            "Happy - 15792.jpg: (48, 48)\n",
            "Happy - 15744.jpg: (48, 48)\n",
            "Happy - 15748.jpg: (48, 48)\n",
            "Neutral - 7404.jpg: (48, 48)\n",
            "Neutral - 7227.jpg: (48, 48)\n",
            "Neutral - 7422.jpg: (48, 48)\n",
            "Neutral - 7294.jpg: (48, 48)\n",
            "Neutral - 7276.jpg: (48, 48)\n",
            "Neutral - 7326.jpg: (48, 48)\n",
            "Neutral - 7399.jpg: (48, 48)\n",
            "Neutral - 7395.jpg: (48, 48)\n",
            "Neutral - 7304.jpg: (48, 48)\n",
            "Neutral - 7324.jpg: (48, 48)\n",
            "Sad - 6856.jpg: (48, 48)\n",
            "Sad - 6858.jpg: (48, 48)\n",
            "Sad - 6798.jpg: (48, 48)\n",
            "Sad - 6817.jpg: (48, 48)\n",
            "Sad - 6913.jpg: (48, 48)\n",
            "Sad - 7000.jpg: (48, 48)\n",
            "Sad - 6984.jpg: (48, 48)\n",
            "Sad - 6832.jpg: (48, 48)\n",
            "Sad - 6939.jpg: (48, 48)\n",
            "Sad - 6866.jpg: (48, 48)\n",
            "Surprise - 175.jpg: (48, 48)\n",
            "Surprise - 269.jpg: (48, 48)\n",
            "Surprise - 26.jpg: (48, 48)\n",
            "Surprise - 88.jpg: (48, 48)\n",
            "Surprise - 39.jpg: (48, 48)\n",
            "Surprise - 252.jpg: (48, 48)\n",
            "Surprise - 81.jpg: (48, 48)\n",
            "Surprise - 55.jpg: (48, 48)\n",
            "Surprise - 29.jpg: (48, 48)\n",
            "Surprise - 52.jpg: (48, 48)\n",
            "\n",
            "Train Subfolder:\n",
            "Happy - 19989.jpg: (48, 48)\n",
            "Happy - 26033.jpg: (48, 48)\n",
            "Happy - 16334.jpg: (48, 48)\n",
            "Happy - 17242.jpg: (48, 48)\n",
            "Happy - 30921.jpg: (48, 48)\n",
            "Happy - 28692.jpg: (48, 48)\n",
            "Happy - 31018.jpg: (48, 48)\n",
            "Happy - 24018.jpg: (48, 48)\n",
            "Happy - 35843.jpg: (48, 48)\n",
            "Happy - 17996.jpg: (48, 48)\n",
            "Neutral - 34062.jpg: (48, 48)\n",
            "Neutral - 16709.jpg: (48, 48)\n",
            "Neutral - 18191.jpg: (48, 48)\n",
            "Neutral - 31050.jpg: (48, 48)\n",
            "Neutral - 17321.jpg: (48, 48)\n",
            "Neutral - 14004.jpg: (48, 48)\n",
            "Neutral - 17120.jpg: (48, 48)\n",
            "Neutral - 27893.jpg: (48, 48)\n",
            "Neutral - 23828.jpg: (48, 48)\n",
            "Neutral - 21955.jpg: (48, 48)\n",
            "Sad - 13594.jpg: (48, 48)\n",
            "Sad - 25951.jpg: (48, 48)\n",
            "Sad - 33457.jpg: (48, 48)\n",
            "Sad - 8184.jpg: (48, 48)\n",
            "Sad - 10332.jpg: (48, 48)\n",
            "Sad - 20326.jpg: (48, 48)\n",
            "Sad - 29728.jpg: (48, 48)\n",
            "Sad - 24000.jpg: (48, 48)\n",
            "Sad - 35068.jpg: (48, 48)\n",
            "Sad - 30421.jpg: (48, 48)\n",
            "Surprise - 21253.jpg: (48, 48)\n",
            "Surprise - 15011.jpg: (48, 48)\n",
            "Surprise - 17135.jpg: (48, 48)\n",
            "Surprise - 11737.jpg: (48, 48)\n",
            "Surprise - 1327.jpg: (48, 48)\n",
            "Surprise - 7640.jpg: (48, 48)\n",
            "Surprise - 23806.jpg: (48, 48)\n",
            "Surprise - 23318.jpg: (48, 48)\n",
            "Surprise - 3961.jpg: (48, 48)\n",
            "Surprise - 12782.jpg: (48, 48)\n",
            "\n",
            "Validation Subfolder:\n",
            "Happy - 25454.jpg: (48, 48)\n",
            "Happy - 19210.jpg: (48, 48)\n",
            "Happy - 1111.jpg: (48, 48)\n",
            "Happy - 2204.jpg: (48, 48)\n",
            "Happy - 26169.jpg: (48, 48)\n",
            "Happy - 12349.jpg: (48, 48)\n",
            "Happy - 34129.jpg: (48, 48)\n",
            "Happy - 32796.jpg: (48, 48)\n",
            "Happy - 15983.jpg: (48, 48)\n",
            "Happy - 14314.jpg: (48, 48)\n",
            "Neutral - 8980.jpg: (48, 48)\n",
            "Neutral - 5749.jpg: (48, 48)\n",
            "Neutral - 19234.jpg: (48, 48)\n",
            "Neutral - 16329.jpg: (48, 48)\n",
            "Neutral - 14929.jpg: (48, 48)\n",
            "Neutral - 29921.jpg: (48, 48)\n",
            "Neutral - 32817.jpg: (48, 48)\n",
            "Neutral - 32330.jpg: (48, 48)\n",
            "Neutral - 3953.jpg: (48, 48)\n",
            "Neutral - 27218.jpg: (48, 48)\n",
            "Sad - 3263.jpg: (48, 48)\n",
            "Sad - 6187.jpg: (48, 48)\n",
            "Sad - 20964.jpg: (48, 48)\n",
            "Sad - 3546.jpg: (48, 48)\n",
            "Sad - 20750.jpg: (48, 48)\n",
            "Sad - 5435.jpg: (48, 48)\n",
            "Sad - 23304.jpg: (48, 48)\n",
            "Sad - 3988.jpg: (48, 48)\n",
            "Sad - 9889.jpg: (48, 48)\n",
            "Sad - 30035.jpg: (48, 48)\n",
            "Surprise - 8042.jpg: (48, 48)\n",
            "Surprise - 35823.jpg: (48, 48)\n",
            "Surprise - 29954.jpg: (48, 48)\n",
            "Surprise - 21578.jpg: (48, 48)\n",
            "Surprise - 7203.jpg: (48, 48)\n",
            "Surprise - 6966.jpg: (48, 48)\n",
            "Surprise - 21824.jpg: (48, 48)\n",
            "Surprise - 26910.jpg: (48, 48)\n",
            "Surprise - 15383.jpg: (48, 48)\n",
            "Surprise - 14331.jpg: (48, 48)\n"
          ]
        }
      ],
      "source": [
        "# Check image size across classes and datasets\n",
        "from PIL import Image # Python Imaging Library: provides extensive file format support, an efficient internal representation, and image processing capabilities\n",
        "\n",
        "\n",
        "# Define the path\n",
        "main_dir = 'Facial_emotion_images/'\n",
        "subfolders = ['test', 'train', 'validation']\n",
        "categories = ['happy', 'neutral', 'sad', 'surprise']\n",
        "\n",
        "# Function to get image dimensions\n",
        "def get_image_dimensions(image_path):\n",
        "    with Image.open(image_path) as img:\n",
        "        return img.size\n",
        "\n",
        "# Iterate through each subfolder and category to check image dimensions\n",
        "for subfolder in subfolders:\n",
        "    print(f\"\\n{subfolder.capitalize()} Subfolder:\")\n",
        "    for category in categories:\n",
        "        category_path = os.path.join(main_dir, subfolder, category)\n",
        "        image_names = os.listdir(category_path)[:10]  # Limit to 10 images\n",
        "        for image_name in image_names:\n",
        "            image_path = os.path.join(category_path, image_name)\n",
        "            dimensions = get_image_dimensions(image_path)\n",
        "            print(f\"{category.capitalize()} - {image_name}: {dimensions}\")"
      ]
    },
    {
      "cell_type": "markdown",
      "metadata": {
        "id": "nKUL1ykbsDcq"
      },
      "source": [
        "**Observations:**\n",
        "- The images are (48, 48) which means that they are 48 pixels wide by 48 pixels tall and are a perfect square.\n",
        "- We have fairly low resolution in the images as seen in the printed images. 48 x 48 pixels = 2,304 total pixels which is relatively low and could impact the models ability to pick up on subtle or complex features.\n",
        "- We will need to adjust our model so that it accepts 48x48 images."
      ]
    },
    {
      "cell_type": "markdown",
      "metadata": {
        "id": "J7NKTPgdEsgt"
      },
      "source": [
        "## **Creating our Data Loaders**\n",
        "\n",
        "In this section, we are creating data loaders that we will use as inputs to our Neural Network.\n",
        "\n",
        "**You have two options for the color_mode. You can set it to color_mode = 'rgb' or color_mode = 'grayscale'. You will need to try out both and see for yourself which one gives better performance.**"
      ]
    },
    {
      "cell_type": "code",
      "execution_count": null,
      "metadata": {
        "id": "d97fee2d",
        "outputId": "a39fcfe3-afcd-4f2f-b949-07b2d83a5a3c",
        "colab": {
          "base_uri": "https://localhost:8080/"
        }
      },
      "outputs": [
        {
          "output_type": "stream",
          "name": "stdout",
          "text": [
            "Found 15109 images belonging to 4 classes.\n",
            "Found 128 images belonging to 4 classes.\n",
            "Found 4977 images belonging to 4 classes.\n"
          ]
        }
      ],
      "source": [
        "from tensorflow.keras.preprocessing.image import ImageDataGenerator #provides real-time data augmentation and preprocessing of image data\n",
        "\n",
        "batch_size  = 32 # number of images to work with at a time\n",
        "img_size = 48 # size of images\n",
        "folder_path = 'Facial_emotion_images/'\n",
        "\n",
        "# TRAINING SET\n",
        "# Define data augmentation and preprocessing\n",
        "datagen_train = ImageDataGenerator(horizontal_flip = True,\n",
        "                                   #  x (Would not want to use if direction matters like text images)\n",
        "                                    brightness_range=(0.,2.),\n",
        "                                    # simulate different lighting conditions, make model more robust to variations in brightness. can be scaled down to 0 (completely dark) or up to 2 (twice as bright as the original).\n",
        "                                    rescale=1./255,\n",
        "                                    # Normalize pixel values to 0-1 scale. Max pixel value is 255 so this will divide all values by that.\n",
        "                                    # Helps make convergence happen quicker: Gradients during backpropagation are more balanced, preventing some weights from updating too quickly or too slowly\n",
        "                                    shear_range=0.3)\n",
        "                                    # shifting the pixels in a direction parallel to a given axis. simulates the effect on camera angle changing.\n",
        "\n",
        "# Load and augment training data\n",
        "train_set = datagen_train.flow_from_directory(folder_path + \"train\", # loads images from these subdirectories and assigns the corresponding class label based on the subdirectory name.\n",
        "                                              target_size = (img_size, img_size),\n",
        "                                              color_mode = 'grayscale' ,\n",
        "                                              batch_size = batch_size,\n",
        "                                              class_mode = 'categorical', # indicates that the labels are one-hot encoded.\n",
        "                                              shuffle = True) # shuffles the data at each epoch\n",
        "\n",
        "# TEST SET\n",
        "# Define data augmentation and preprocessing\n",
        "datagen_test = ImageDataGenerator(rescale=1./255) # Normalize pixel values to 0-1 scale. Max pixel value is 255 so this will divide all values by that.\n",
        "# The training set has significantly more preprocessing to increase its diversity and ability to deal with real world data\n",
        "# We will not perform the same augmentation sets on the test and validation sets to ensure the model is evaluated using real world data.\n",
        "\n",
        "\n",
        "# Load and augment training data\n",
        "test_set = datagen_test.flow_from_directory(folder_path + \"test\", # loads images from these subdirectories and assigns the corresponding class label based on the subdirectory name.\n",
        "                                              target_size = (img_size, img_size),\n",
        "                                              color_mode = 'grayscale' ,\n",
        "                                              batch_size = batch_size,\n",
        "                                              class_mode = 'categorical', # indicates that the labels are one-hot encoded.\n",
        "                                              shuffle = False) # Will not shuffle test or validation data\n",
        "\n",
        "# VALIDATION SET\n",
        "# Define data augmentation and preprocessing\n",
        "datagen_val = ImageDataGenerator(rescale=1./255) # Normalize pixel values to 0-1 scale. Max pixel value is 255 so this will divide all values by that.\n",
        "# The training set has significantly more preprocessing to increase its diversity and ability to deal with real world data\n",
        "# We will not perform the same augmentation sets on the test and validation sets to ensure the model is evaluated using real world data.\n",
        "\n",
        "\n",
        "# Load and augment training data\n",
        "validation_set = datagen_val.flow_from_directory(folder_path + \"validation\", # loads images from these subdirectories and assigns the corresponding class label based on the subdirectory name.\n",
        "                                              target_size = (img_size, img_size),\n",
        "                                              color_mode = 'grayscale' ,\n",
        "                                              batch_size = batch_size,\n",
        "                                              class_mode = 'categorical', # indicates that the labels are one-hot encoded.\n",
        "                                              shuffle = False) # Will not shuffle test or validation data"
      ]
    },
    {
      "cell_type": "markdown",
      "metadata": {
        "id": "ecBkBSuhsDcr"
      },
      "source": [
        "**Observations:**\n",
        "- We created our test_set, train_set and validation_set datasets.\n",
        "- We performed some image augmentation to the training set including flipping, brightness range, and shear ranging to simulate different picture orrientations, brightness and tilts.\n",
        "- We performed rescaling on all the sets to standardize the pixel values"
      ]
    },
    {
      "cell_type": "markdown",
      "metadata": {
        "id": "_qGpQC3q1avy"
      },
      "source": [
        "# **Model Building**"
      ]
    },
    {
      "cell_type": "markdown",
      "metadata": {
        "id": "OSl8GqRdAcGq"
      },
      "source": [
        "**Think About It:**\n",
        "* **Are Convolutional Neural Networks the right approach? Should we have gone with Artificial Neural Networks instead?**\n",
        "    - A CNN is a good approach since we are dealing with image data as they capture spatial hierarchies in images through convolutional layers. This allows them to identify important features in images such as edges, textures, and shapes.\n",
        "    - We can also leverage kernels rather than needing a weight for each pixel which will make our model more computationally efficient.\n",
        "\n",
        "* **What are the advantages of CNNs over ANNs and are they applicable here?**\n",
        "    - We saw in the elective model and example of how accuracy improves analyzing image data with CNNs.\n",
        "    - CNNs will better be able to extract relevant features using the convolutional layers."
      ]
    },
    {
      "cell_type": "markdown",
      "metadata": {
        "id": "0feec0a7"
      },
      "source": [
        "#**1. CNN Model**"
      ]
    },
    {
      "cell_type": "code",
      "execution_count": null,
      "metadata": {
        "id": "wjSQUn9FsDcr"
      },
      "outputs": [],
      "source": [
        "# Fixing the seed for random number generators\n",
        "import random\n",
        "np.random.seed(42)\n",
        "random.seed(42)\n",
        "tf.random.set_seed(42)"
      ]
    },
    {
      "cell_type": "markdown",
      "metadata": {
        "id": "nMDrHLBksDcs"
      },
      "source": [
        "## **Model Architecture**\n",
        "- Three convolutional layers that will help extract features from the image.\n",
        "    - Convolutions are slide pattern detectors. Ours will slide through each 3x3 pixel section to produce a feature map.\n",
        "    - Each filter slides over the input image, performing element-wise multiplication and summing the results to produce a feature map.\n",
        "- We will seperate the 3 convolutional layers with a MaxPooling layer inbetween. This will reduce the spatial dimentions of the feature map.\n",
        "\n",
        "- Flatten the output of the convolutional layers for further processing by the Dense models.\n",
        "- 2 Dense layers seperated by a dropout layer.\n",
        "    - Dropout layer will help prevent overfitting\n",
        "\n",
        "- Use soft max in the output layer to assign probability of each class to each image"
      ]
    },
    {
      "cell_type": "code",
      "execution_count": null,
      "metadata": {
        "id": "151077af"
      },
      "outputs": [],
      "source": [
        "import tensorflow as tf\n",
        "from tensorflow.keras.models import Sequential\n",
        "from tensorflow.keras.layers import Conv2D, MaxPooling2D, Flatten, Dense, Dropout\n",
        "\n",
        "def model_def_1():\n",
        "    # Create Sequential Model Object\n",
        "    model = Sequential()\n",
        "\n",
        "    # First Convolutional layer\n",
        "    # 32 filters, kernel size of 3x3\n",
        "    # Each filter is designed to detect specific features in the image. For example, one filter might detect horizontal edges, while another detects vertical edges.\n",
        "    # input shape = (48, 48, 1) # 1 for grayscale images\n",
        "    # Activation function is relu\n",
        "    model.add(Conv2D(32, (3, 3), activation='relu', input_shape=(48, 48, 1)))\n",
        "    # The output of the convolution operation will represent the presence of specific features at different spatial locations in the input image.\n",
        "\n",
        "    # Choosing not to include padding which would ensure that that edge features are not lost. Most of the important features of the images should be in the center of the photo\n",
        "    # and this would increase the computational load as including it would increase the spatial dimensions of the feature maps.\n",
        "\n",
        "    #Max-pooling layer with a pool size of 2x2\n",
        "    model.add(MaxPooling2D(pool_size=(2, 2)))\n",
        "    # The pooling layer will further reduce the dimensions of the data.\n",
        "    # It will run through each 2x2 area of the image and select the max value from the section. We could also use average pooling instead.\n",
        "\n",
        "    # Second convolutional layer\n",
        "    # with 64 filters and a kernel size of 3x3\n",
        "    model.add(Conv2D(64, (3, 3), activation='relu'))\n",
        "    # Pooling layer\n",
        "    model.add(MaxPooling2D(pool_size=(2, 2)))\n",
        "\n",
        "    # Third convolutional layer\n",
        "    # with 128 filters and a kernel size of 3x3\n",
        "    model.add(Conv2D(128, (3, 3), activation='relu'))\n",
        "    # Pooling layer\n",
        "    model.add(MaxPooling2D(pool_size=(2, 2)))\n",
        "\n",
        "    # Flatten the output\n",
        "    model.add(Flatten())\n",
        "    # will reshapes into a vector that can be fed into the fully connected (dense) layers\n",
        "\n",
        "    # Fully connected layer\n",
        "    # Classify the features extracted by the convolutional layers.\n",
        "    model.add(Dense(128, activation='relu'))\n",
        "\n",
        "    # Dropout layer\n",
        "    # prevents overfitting by randomly setting some inputs to zero during trianing. Will help model generalize better by reducing its reliance on specific neurons.\n",
        "    model.add(Dropout(0.5))  # 50 % of neurons will be dropped in each itteration\n",
        "\n",
        "    # Output layer\n",
        "    model.add(Dense(4, activation='softmax'))  # 4 classes for the emotions\n",
        "    # Softmax for classification problem\n",
        "        #  It converts the raw output scores (logits) from the network into probabilities, which sum to 1.\n",
        "\n",
        "    # Compile the model\n",
        "    model.compile(optimizer='adam', # The optimizer adjusts the model’s weights\n",
        "                  loss='categorical_crossentropy', # # The loss function quantifies how well the model is performing\n",
        "                  metrics=['accuracy']) # track how often the predictions match the true labels\n",
        "    return model"
      ]
    },
    {
      "cell_type": "code",
      "execution_count": null,
      "metadata": {
        "id": "h68ZmifAsDcw",
        "outputId": "bd9cefbe-5eee-45d5-cde3-55e7bceddabb",
        "colab": {
          "base_uri": "https://localhost:8080/",
          "height": 463
        }
      },
      "outputs": [
        {
          "output_type": "display_data",
          "data": {
            "text/plain": [
              "\u001b[1mModel: \"sequential\"\u001b[0m\n"
            ],
            "text/html": [
              "<pre style=\"white-space:pre;overflow-x:auto;line-height:normal;font-family:Menlo,'DejaVu Sans Mono',consolas,'Courier New',monospace\"><span style=\"font-weight: bold\">Model: \"sequential\"</span>\n",
              "</pre>\n"
            ]
          },
          "metadata": {}
        },
        {
          "output_type": "display_data",
          "data": {
            "text/plain": [
              "┏━━━━━━━━━━━━━━━━━━━━━━━━━━━━━━━━━━━━━━┳━━━━━━━━━━━━━━━━━━━━━━━━━━━━━┳━━━━━━━━━━━━━━━━━┓\n",
              "┃\u001b[1m \u001b[0m\u001b[1mLayer (type)                        \u001b[0m\u001b[1m \u001b[0m┃\u001b[1m \u001b[0m\u001b[1mOutput Shape               \u001b[0m\u001b[1m \u001b[0m┃\u001b[1m \u001b[0m\u001b[1m        Param #\u001b[0m\u001b[1m \u001b[0m┃\n",
              "┡━━━━━━━━━━━━━━━━━━━━━━━━━━━━━━━━━━━━━━╇━━━━━━━━━━━━━━━━━━━━━━━━━━━━━╇━━━━━━━━━━━━━━━━━┩\n",
              "│ conv2d (\u001b[38;5;33mConv2D\u001b[0m)                      │ (\u001b[38;5;45mNone\u001b[0m, \u001b[38;5;34m46\u001b[0m, \u001b[38;5;34m46\u001b[0m, \u001b[38;5;34m32\u001b[0m)          │             \u001b[38;5;34m320\u001b[0m │\n",
              "├──────────────────────────────────────┼─────────────────────────────┼─────────────────┤\n",
              "│ max_pooling2d (\u001b[38;5;33mMaxPooling2D\u001b[0m)         │ (\u001b[38;5;45mNone\u001b[0m, \u001b[38;5;34m23\u001b[0m, \u001b[38;5;34m23\u001b[0m, \u001b[38;5;34m32\u001b[0m)          │               \u001b[38;5;34m0\u001b[0m │\n",
              "├──────────────────────────────────────┼─────────────────────────────┼─────────────────┤\n",
              "│ conv2d_1 (\u001b[38;5;33mConv2D\u001b[0m)                    │ (\u001b[38;5;45mNone\u001b[0m, \u001b[38;5;34m21\u001b[0m, \u001b[38;5;34m21\u001b[0m, \u001b[38;5;34m64\u001b[0m)          │          \u001b[38;5;34m18,496\u001b[0m │\n",
              "├──────────────────────────────────────┼─────────────────────────────┼─────────────────┤\n",
              "│ max_pooling2d_1 (\u001b[38;5;33mMaxPooling2D\u001b[0m)       │ (\u001b[38;5;45mNone\u001b[0m, \u001b[38;5;34m10\u001b[0m, \u001b[38;5;34m10\u001b[0m, \u001b[38;5;34m64\u001b[0m)          │               \u001b[38;5;34m0\u001b[0m │\n",
              "├──────────────────────────────────────┼─────────────────────────────┼─────────────────┤\n",
              "│ conv2d_2 (\u001b[38;5;33mConv2D\u001b[0m)                    │ (\u001b[38;5;45mNone\u001b[0m, \u001b[38;5;34m8\u001b[0m, \u001b[38;5;34m8\u001b[0m, \u001b[38;5;34m128\u001b[0m)           │          \u001b[38;5;34m73,856\u001b[0m │\n",
              "├──────────────────────────────────────┼─────────────────────────────┼─────────────────┤\n",
              "│ max_pooling2d_2 (\u001b[38;5;33mMaxPooling2D\u001b[0m)       │ (\u001b[38;5;45mNone\u001b[0m, \u001b[38;5;34m4\u001b[0m, \u001b[38;5;34m4\u001b[0m, \u001b[38;5;34m128\u001b[0m)           │               \u001b[38;5;34m0\u001b[0m │\n",
              "├──────────────────────────────────────┼─────────────────────────────┼─────────────────┤\n",
              "│ flatten (\u001b[38;5;33mFlatten\u001b[0m)                    │ (\u001b[38;5;45mNone\u001b[0m, \u001b[38;5;34m2048\u001b[0m)                │               \u001b[38;5;34m0\u001b[0m │\n",
              "├──────────────────────────────────────┼─────────────────────────────┼─────────────────┤\n",
              "│ dense (\u001b[38;5;33mDense\u001b[0m)                        │ (\u001b[38;5;45mNone\u001b[0m, \u001b[38;5;34m128\u001b[0m)                 │         \u001b[38;5;34m262,272\u001b[0m │\n",
              "├──────────────────────────────────────┼─────────────────────────────┼─────────────────┤\n",
              "│ dropout (\u001b[38;5;33mDropout\u001b[0m)                    │ (\u001b[38;5;45mNone\u001b[0m, \u001b[38;5;34m128\u001b[0m)                 │               \u001b[38;5;34m0\u001b[0m │\n",
              "├──────────────────────────────────────┼─────────────────────────────┼─────────────────┤\n",
              "│ dense_1 (\u001b[38;5;33mDense\u001b[0m)                      │ (\u001b[38;5;45mNone\u001b[0m, \u001b[38;5;34m4\u001b[0m)                   │             \u001b[38;5;34m516\u001b[0m │\n",
              "└──────────────────────────────────────┴─────────────────────────────┴─────────────────┘\n"
            ],
            "text/html": [
              "<pre style=\"white-space:pre;overflow-x:auto;line-height:normal;font-family:Menlo,'DejaVu Sans Mono',consolas,'Courier New',monospace\">┏━━━━━━━━━━━━━━━━━━━━━━━━━━━━━━━━━━━━━━┳━━━━━━━━━━━━━━━━━━━━━━━━━━━━━┳━━━━━━━━━━━━━━━━━┓\n",
              "┃<span style=\"font-weight: bold\"> Layer (type)                         </span>┃<span style=\"font-weight: bold\"> Output Shape                </span>┃<span style=\"font-weight: bold\">         Param # </span>┃\n",
              "┡━━━━━━━━━━━━━━━━━━━━━━━━━━━━━━━━━━━━━━╇━━━━━━━━━━━━━━━━━━━━━━━━━━━━━╇━━━━━━━━━━━━━━━━━┩\n",
              "│ conv2d (<span style=\"color: #0087ff; text-decoration-color: #0087ff\">Conv2D</span>)                      │ (<span style=\"color: #00d7ff; text-decoration-color: #00d7ff\">None</span>, <span style=\"color: #00af00; text-decoration-color: #00af00\">46</span>, <span style=\"color: #00af00; text-decoration-color: #00af00\">46</span>, <span style=\"color: #00af00; text-decoration-color: #00af00\">32</span>)          │             <span style=\"color: #00af00; text-decoration-color: #00af00\">320</span> │\n",
              "├──────────────────────────────────────┼─────────────────────────────┼─────────────────┤\n",
              "│ max_pooling2d (<span style=\"color: #0087ff; text-decoration-color: #0087ff\">MaxPooling2D</span>)         │ (<span style=\"color: #00d7ff; text-decoration-color: #00d7ff\">None</span>, <span style=\"color: #00af00; text-decoration-color: #00af00\">23</span>, <span style=\"color: #00af00; text-decoration-color: #00af00\">23</span>, <span style=\"color: #00af00; text-decoration-color: #00af00\">32</span>)          │               <span style=\"color: #00af00; text-decoration-color: #00af00\">0</span> │\n",
              "├──────────────────────────────────────┼─────────────────────────────┼─────────────────┤\n",
              "│ conv2d_1 (<span style=\"color: #0087ff; text-decoration-color: #0087ff\">Conv2D</span>)                    │ (<span style=\"color: #00d7ff; text-decoration-color: #00d7ff\">None</span>, <span style=\"color: #00af00; text-decoration-color: #00af00\">21</span>, <span style=\"color: #00af00; text-decoration-color: #00af00\">21</span>, <span style=\"color: #00af00; text-decoration-color: #00af00\">64</span>)          │          <span style=\"color: #00af00; text-decoration-color: #00af00\">18,496</span> │\n",
              "├──────────────────────────────────────┼─────────────────────────────┼─────────────────┤\n",
              "│ max_pooling2d_1 (<span style=\"color: #0087ff; text-decoration-color: #0087ff\">MaxPooling2D</span>)       │ (<span style=\"color: #00d7ff; text-decoration-color: #00d7ff\">None</span>, <span style=\"color: #00af00; text-decoration-color: #00af00\">10</span>, <span style=\"color: #00af00; text-decoration-color: #00af00\">10</span>, <span style=\"color: #00af00; text-decoration-color: #00af00\">64</span>)          │               <span style=\"color: #00af00; text-decoration-color: #00af00\">0</span> │\n",
              "├──────────────────────────────────────┼─────────────────────────────┼─────────────────┤\n",
              "│ conv2d_2 (<span style=\"color: #0087ff; text-decoration-color: #0087ff\">Conv2D</span>)                    │ (<span style=\"color: #00d7ff; text-decoration-color: #00d7ff\">None</span>, <span style=\"color: #00af00; text-decoration-color: #00af00\">8</span>, <span style=\"color: #00af00; text-decoration-color: #00af00\">8</span>, <span style=\"color: #00af00; text-decoration-color: #00af00\">128</span>)           │          <span style=\"color: #00af00; text-decoration-color: #00af00\">73,856</span> │\n",
              "├──────────────────────────────────────┼─────────────────────────────┼─────────────────┤\n",
              "│ max_pooling2d_2 (<span style=\"color: #0087ff; text-decoration-color: #0087ff\">MaxPooling2D</span>)       │ (<span style=\"color: #00d7ff; text-decoration-color: #00d7ff\">None</span>, <span style=\"color: #00af00; text-decoration-color: #00af00\">4</span>, <span style=\"color: #00af00; text-decoration-color: #00af00\">4</span>, <span style=\"color: #00af00; text-decoration-color: #00af00\">128</span>)           │               <span style=\"color: #00af00; text-decoration-color: #00af00\">0</span> │\n",
              "├──────────────────────────────────────┼─────────────────────────────┼─────────────────┤\n",
              "│ flatten (<span style=\"color: #0087ff; text-decoration-color: #0087ff\">Flatten</span>)                    │ (<span style=\"color: #00d7ff; text-decoration-color: #00d7ff\">None</span>, <span style=\"color: #00af00; text-decoration-color: #00af00\">2048</span>)                │               <span style=\"color: #00af00; text-decoration-color: #00af00\">0</span> │\n",
              "├──────────────────────────────────────┼─────────────────────────────┼─────────────────┤\n",
              "│ dense (<span style=\"color: #0087ff; text-decoration-color: #0087ff\">Dense</span>)                        │ (<span style=\"color: #00d7ff; text-decoration-color: #00d7ff\">None</span>, <span style=\"color: #00af00; text-decoration-color: #00af00\">128</span>)                 │         <span style=\"color: #00af00; text-decoration-color: #00af00\">262,272</span> │\n",
              "├──────────────────────────────────────┼─────────────────────────────┼─────────────────┤\n",
              "│ dropout (<span style=\"color: #0087ff; text-decoration-color: #0087ff\">Dropout</span>)                    │ (<span style=\"color: #00d7ff; text-decoration-color: #00d7ff\">None</span>, <span style=\"color: #00af00; text-decoration-color: #00af00\">128</span>)                 │               <span style=\"color: #00af00; text-decoration-color: #00af00\">0</span> │\n",
              "├──────────────────────────────────────┼─────────────────────────────┼─────────────────┤\n",
              "│ dense_1 (<span style=\"color: #0087ff; text-decoration-color: #0087ff\">Dense</span>)                      │ (<span style=\"color: #00d7ff; text-decoration-color: #00d7ff\">None</span>, <span style=\"color: #00af00; text-decoration-color: #00af00\">4</span>)                   │             <span style=\"color: #00af00; text-decoration-color: #00af00\">516</span> │\n",
              "└──────────────────────────────────────┴─────────────────────────────┴─────────────────┘\n",
              "</pre>\n"
            ]
          },
          "metadata": {}
        },
        {
          "output_type": "display_data",
          "data": {
            "text/plain": [
              "\u001b[1m Total params: \u001b[0m\u001b[38;5;34m355,460\u001b[0m (1.36 MB)\n"
            ],
            "text/html": [
              "<pre style=\"white-space:pre;overflow-x:auto;line-height:normal;font-family:Menlo,'DejaVu Sans Mono',consolas,'Courier New',monospace\"><span style=\"font-weight: bold\"> Total params: </span><span style=\"color: #00af00; text-decoration-color: #00af00\">355,460</span> (1.36 MB)\n",
              "</pre>\n"
            ]
          },
          "metadata": {}
        },
        {
          "output_type": "display_data",
          "data": {
            "text/plain": [
              "\u001b[1m Trainable params: \u001b[0m\u001b[38;5;34m355,460\u001b[0m (1.36 MB)\n"
            ],
            "text/html": [
              "<pre style=\"white-space:pre;overflow-x:auto;line-height:normal;font-family:Menlo,'DejaVu Sans Mono',consolas,'Courier New',monospace\"><span style=\"font-weight: bold\"> Trainable params: </span><span style=\"color: #00af00; text-decoration-color: #00af00\">355,460</span> (1.36 MB)\n",
              "</pre>\n"
            ]
          },
          "metadata": {}
        },
        {
          "output_type": "display_data",
          "data": {
            "text/plain": [
              "\u001b[1m Non-trainable params: \u001b[0m\u001b[38;5;34m0\u001b[0m (0.00 B)\n"
            ],
            "text/html": [
              "<pre style=\"white-space:pre;overflow-x:auto;line-height:normal;font-family:Menlo,'DejaVu Sans Mono',consolas,'Courier New',monospace\"><span style=\"font-weight: bold\"> Non-trainable params: </span><span style=\"color: #00af00; text-decoration-color: #00af00\">0</span> (0.00 B)\n",
              "</pre>\n"
            ]
          },
          "metadata": {}
        }
      ],
      "source": [
        "# Store model in varriable\n",
        "model_1 = model_def_1()\n",
        "\n",
        "# Print the summary of the model\n",
        "model_1.summary()"
      ]
    },
    {
      "cell_type": "code",
      "execution_count": null,
      "metadata": {
        "id": "-XmcwT5asDcw",
        "outputId": "fae99ba8-5d27-43cf-e3a8-970d028187b9",
        "colab": {
          "base_uri": "https://localhost:8080/"
        }
      },
      "outputs": [
        {
          "output_type": "stream",
          "name": "stdout",
          "text": [
            "Epoch 1/20\n",
            "\u001b[1m473/473\u001b[0m \u001b[32m━━━━━━━━━━━━━━━━━━━━\u001b[0m\u001b[37m\u001b[0m \u001b[1m91s\u001b[0m 188ms/step - accuracy: 0.3219 - loss: 1.3395 - val_accuracy: 0.5455 - val_loss: 1.0837\n",
            "Epoch 2/20\n",
            "\u001b[1m473/473\u001b[0m \u001b[32m━━━━━━━━━━━━━━━━━━━━\u001b[0m\u001b[37m\u001b[0m \u001b[1m76s\u001b[0m 160ms/step - accuracy: 0.5060 - loss: 1.1196 - val_accuracy: 0.5994 - val_loss: 0.9577\n",
            "Epoch 3/20\n",
            "\u001b[1m473/473\u001b[0m \u001b[32m━━━━━━━━━━━━━━━━━━━━\u001b[0m\u001b[37m\u001b[0m \u001b[1m80s\u001b[0m 168ms/step - accuracy: 0.5609 - loss: 1.0193 - val_accuracy: 0.6178 - val_loss: 0.8953\n",
            "Epoch 4/20\n",
            "\u001b[1m313/473\u001b[0m \u001b[32m━━━━━━━━━━━━━\u001b[0m\u001b[37m━━━━━━━\u001b[0m \u001b[1m24s\u001b[0m 152ms/step - accuracy: 0.5920 - loss: 0.9588"
          ]
        }
      ],
      "source": [
        "# TRAINING THE MODEL\n",
        "model_1_history = model_1.fit(\n",
        "            train_set,\n",
        "            validation_data=validation_set, # Use the separate validation set\n",
        "            batch_size=32, # The model will process 32 samples at a time.\n",
        "            verbose=1, # This will display the progress of training in the console.\n",
        "            epochs=20 # The model will train for 20 epochs.\n",
        "            )"
      ]
    },
    {
      "cell_type": "code",
      "execution_count": null,
      "metadata": {
        "id": "9GLK39qUsDcw"
      },
      "outputs": [],
      "source": [
        "plt.plot(model_1_history.history['accuracy'])\n",
        "plt.plot(model_1_history.history['val_accuracy'])\n",
        "plt.title('Model Accuracy')\n",
        "plt.ylabel('Accuracy')\n",
        "plt.xlabel('Epoch')\n",
        "plt.legend(['Train', 'Validation'], loc = 'upper left')\n",
        "\n",
        "plt.show()"
      ]
    },
    {
      "cell_type": "markdown",
      "metadata": {
        "id": "przqBXrtsDcw"
      },
      "source": [
        "**Observations:**\n",
        "- Training accuracy has increased from 31.71% to 72.03% over 20 epochs.\n",
        "- Validation accuracy has also improved, reaching around 71.23%. This accuracy is reached out about the 9th epoch.\n",
        "- Training loss has decreased from 1.3415 to 0.6675.\n",
        "- Validation loss has also decreased, although it fluctuates slightly towards the end."
      ]
    },
    {
      "cell_type": "markdown",
      "metadata": {
        "id": "CR2yf3zH7uje"
      },
      "source": [
        "### **Evaluating the Model on the Test Set**"
      ]
    },
    {
      "cell_type": "code",
      "execution_count": null,
      "metadata": {
        "id": "gffvQXr-70Hm"
      },
      "outputs": [],
      "source": [
        "# Make Predictions on test set\n",
        "test_pred_1 = model_1.predict(test_set)\n",
        "# Will return array of probabilities for each class\n",
        "\n",
        "#For each image, returns index for highest probability class\n",
        "test_pred_1 = [np.argmax(i) for i in test_pred_1]\n",
        "\n",
        "# Get true labels from the test set\n",
        "test_labels = test_set.classes\n",
        "\n",
        "# Generate confusion matrix\n",
        "cm = confusion_matrix(test_labels, test_pred_1)"
      ]
    },
    {
      "cell_type": "code",
      "execution_count": null,
      "metadata": {
        "id": "lRYNyRoksDcx"
      },
      "outputs": [],
      "source": [
        "# Evaluate performance on Test\n",
        "\n",
        "# Plot confusion matrix\n",
        "plt.figure(figsize=(10, 8))\n",
        "sns.heatmap(cm, annot=True, fmt='d', cmap='Blues', xticklabels=test_set.class_indices.keys(), yticklabels=test_set.class_indices.keys())\n",
        "plt.xlabel('Predicted')\n",
        "plt.ylabel('Actual')\n",
        "plt.title('Confusion Matrix')\n",
        "plt.show()\n",
        "\n",
        "# Print classification report\n",
        "print(classification_report(test_labels, test_pred_1, target_names=test_set.class_indices.keys()))"
      ]
    },
    {
      "cell_type": "markdown",
      "metadata": {
        "id": "SoqluqR-RMbk"
      },
      "source": [
        "**Observations and Insights:**\n",
        "- The model suprisingly performs well on the “surprise” class with high precision and F1-score. Even though the datasets for the training and validation sets had less suprise labeled images. Potentially it is still able to perform well because the features of suprise are very distinct from the other features (mouth open, hands on face, etc)\n",
        "- The “neutral” class has lower precision and recall, indicating that the model might be struggling to distinguish neutral expressions from other emotions.\n",
        "- The 'greyscale' loader is doing well representing the data which makes sense because the images are already in black and white."
      ]
    },
    {
      "cell_type": "markdown",
      "metadata": {
        "id": "12efb6c8"
      },
      "source": [
        "## **2. CNN Model**"
      ]
    },
    {
      "cell_type": "markdown",
      "metadata": {
        "id": "ypwtou8Zp5EH"
      },
      "source": [
        "- Try out a slightly larger architecture"
      ]
    },
    {
      "cell_type": "code",
      "execution_count": null,
      "metadata": {
        "id": "7887b475"
      },
      "outputs": [],
      "source": [
        "#Clear model\n",
        "from tensorflow.keras import backend\n",
        "backend.clear_session()\n",
        "\n",
        "# Fixing the seed for random number generators\n",
        "import random\n",
        "np.random.seed(42)\n",
        "random.seed(42)\n",
        "tf.random.set_seed(42)"
      ]
    },
    {
      "cell_type": "markdown",
      "metadata": {
        "id": "yDocvLYssDcx"
      },
      "source": [
        "For this model I am going to **remove the 3 pooling layers**. This will increase the computational load on the model, but will maintain more features from the original image"
      ]
    },
    {
      "cell_type": "code",
      "execution_count": null,
      "metadata": {
        "id": "jBNgxpdNsDcx"
      },
      "outputs": [],
      "source": [
        "import tensorflow as tf\n",
        "from tensorflow.keras.models import Sequential\n",
        "from tensorflow.keras.layers import Conv2D, MaxPooling2D, Flatten, Dense, Dropout\n",
        "\n",
        "def model_def_2():\n",
        "    # Create Sequential Model Object\n",
        "    model = Sequential()\n",
        "\n",
        "    # First Convolutional layer\n",
        "    # 32 filters, kernel size of 3x3\n",
        "    # Each filter is designed to detect specific features in the image. For example, one filter might detect horizontal edges, while another detects vertical edges.\n",
        "    # input shape = (48, 48, 1) # 1 for grayscale images\n",
        "    # Activation function is relu\n",
        "    model.add(Conv2D(32, (3, 3), activation='relu', input_shape=(48, 48, 1)))\n",
        "    # The output of the convolution operation will represent the presence of specific features at different spatial locations in the input image.\n",
        "\n",
        "    # Choosing not to include padding which would ensure that that edge features are not lost. Most of the important features of the images should be in the center of the photo\n",
        "    # and this would increase the computational load as including it would increase the spatial dimensions of the feature maps.\n",
        "\n",
        "    # Second convolutional layer\n",
        "    # with 64 filters and a kernel size of 3x3\n",
        "    model.add(Conv2D(64, (3, 3), activation='relu'))\n",
        "\n",
        "    # Third convolutional layer\n",
        "    # with 128 filters and a kernel size of 3x3\n",
        "    model.add(Conv2D(128, (3, 3), activation='relu'))\n",
        "\n",
        "    # Flatten the output\n",
        "    model.add(Flatten())\n",
        "    # will reshapes into a vector that can be fed into the fully connected (dense) layers\n",
        "\n",
        "    # Fully connected layer\n",
        "    # Classify the features extracted by the convolutional layers.\n",
        "    model.add(Dense(128, activation='relu'))\n",
        "\n",
        "    # Dropout layer\n",
        "    # prevents overfitting by randomly setting some inputs to zero during trianing. Will help model generalize better by reducing its reliance on specific neurons.\n",
        "    model.add(Dropout(0.5))  # 50 % of neurons will be dropped in each itteration\n",
        "\n",
        "    # Output layer\n",
        "    model.add(Dense(4, activation='softmax'))  # 4 classes for the emotions\n",
        "    # Softmax for classification problem\n",
        "        #  It converts the raw output scores (logits) from the network into probabilities, which sum to 1.\n",
        "\n",
        "    # Compile the model\n",
        "    model.compile(optimizer='adam', # The optimizer adjusts the model’s weights\n",
        "                  loss='categorical_crossentropy', # # The loss function quantifies how well the model is performing\n",
        "                  metrics=['accuracy']) # track how often the predictions match the true labels\n",
        "    return model"
      ]
    },
    {
      "cell_type": "code",
      "execution_count": null,
      "metadata": {
        "id": "MHWPv_NtsDcy"
      },
      "outputs": [],
      "source": [
        "# Store model in varriable\n",
        "model_2 = model_def_2()\n",
        "\n",
        "# Print the summary of the model\n",
        "model_2.summary()"
      ]
    },
    {
      "cell_type": "markdown",
      "metadata": {
        "id": "T2d7wYiTk5uW"
      },
      "source": [
        "### **Compiling and Training the Model**"
      ]
    },
    {
      "cell_type": "code",
      "execution_count": null,
      "metadata": {
        "id": "5f79add6"
      },
      "outputs": [],
      "source": [
        "# Did compiling in the section above.\n",
        "\n",
        "# TRAINING THE MODEL\n",
        "model_2_history = model_2.fit(\n",
        "            train_set,\n",
        "            validation_data=validation_set, # Use the separate validation set\n",
        "            batch_size=32, # The model will process 32 samples at a time.\n",
        "            verbose=1, # This will display the progress of training in the console.\n",
        "            epochs=20 # The model will train for 20 epochs.\n",
        "            )"
      ]
    },
    {
      "cell_type": "code",
      "execution_count": null,
      "metadata": {
        "id": "bFq3eL7BsDcy"
      },
      "outputs": [],
      "source": [
        "plt.plot(model_2_history.history['accuracy'])\n",
        "plt.plot(model_2_history.history['val_accuracy'])\n",
        "plt.title('Model Accuracy')\n",
        "plt.ylabel('Accuracy')\n",
        "plt.xlabel('Epoch')\n",
        "plt.legend(['Train', 'Validation'], loc = 'upper left')\n",
        "\n",
        "plt.show()"
      ]
    },
    {
      "cell_type": "markdown",
      "metadata": {
        "id": "rnCijXCAsDcy"
      },
      "source": [
        "**Observations:**\n",
        "- Training Accuracy: Increased significantly from 32.46% to 87.70%.\n",
        "- Validation Accuracy: Plateaued around 64.58%.\n",
        "- I think I should have used early stopping which stops training when the validation loss stops improving to prevent overfitting.\n",
        "- The pooling layers seemed to help the model generalize and reduced overfitting"
      ]
    },
    {
      "cell_type": "markdown",
      "metadata": {
        "id": "VeiN9vSy744e"
      },
      "source": [
        "### **Evaluating the Model on the Test Set**"
      ]
    },
    {
      "cell_type": "code",
      "execution_count": null,
      "metadata": {
        "id": "YBNeB-Em7xBy"
      },
      "outputs": [],
      "source": [
        "# Make Predictions on test set\n",
        "test_pred_2 = model_2.predict(test_set)\n",
        "# Will return array of probabilities for each class\n",
        "\n",
        "#For each image, returns index for highest probability class\n",
        "test_pred_2 = [np.argmax(i) for i in test_pred_2]\n",
        "\n",
        "# Get true labels from the test set\n",
        "test_labels = test_set.classes\n",
        "\n",
        "# Generate confusion matrix\n",
        "cm = confusion_matrix(test_labels, test_pred_2)"
      ]
    },
    {
      "cell_type": "code",
      "execution_count": null,
      "metadata": {
        "id": "Ecz5-IZ8sDcz"
      },
      "outputs": [],
      "source": [
        "# Evaluate performance on Test\n",
        "\n",
        "# Plot confusion matrix\n",
        "plt.figure(figsize=(10, 8))\n",
        "sns.heatmap(cm, annot=True, fmt='d', cmap='Blues', xticklabels=test_set.class_indices.keys(), yticklabels=test_set.class_indices.keys())\n",
        "plt.xlabel('Predicted')\n",
        "plt.ylabel('Actual')\n",
        "plt.title('Confusion Matrix')\n",
        "plt.show()\n",
        "\n",
        "# Print classification report\n",
        "print(classification_report(test_labels, test_pred_2, target_names=test_set.class_indices.keys()))"
      ]
    },
    {
      "cell_type": "markdown",
      "metadata": {
        "id": "MstKA9Op8XOA"
      },
      "source": [
        "**Observations and Insights:**\n",
        "- The F1 scores were relatively high. Consistent with the last model, the lowest F1 score was .63 for Suprise. The second lowest for this model was happy at .70.\n",
        "- The surprise class had the highest f1-score of 0.84, showing strong performance.\n",
        "- Overall this model appears to overfitting, evident by its poor performance on the validation data."
      ]
    },
    {
      "cell_type": "markdown",
      "metadata": {
        "id": "pl9OTwFRsDcz"
      },
      "source": [
        "## **3. CNN Model**"
      ]
    },
    {
      "cell_type": "code",
      "execution_count": null,
      "metadata": {
        "id": "fSyrsLylsDcz"
      },
      "outputs": [],
      "source": [
        "#Clear model\n",
        "from tensorflow.keras import backend\n",
        "backend.clear_session()\n",
        "\n",
        "# Fixing the seed for random number generators\n",
        "import random\n",
        "np.random.seed(42)\n",
        "random.seed(42)\n",
        "tf.random.set_seed(42)"
      ]
    },
    {
      "cell_type": "code",
      "execution_count": null,
      "metadata": {
        "id": "8nhRxeF9sDcz"
      },
      "outputs": [],
      "source": [
        "import tensorflow as tf\n",
        "from tensorflow.keras.models import Sequential\n",
        "from tensorflow.keras.layers import Conv2D, MaxPooling2D, Flatten, Dense, Dropout, BatchNormalization\n",
        "from tensorflow.keras.callbacks import EarlyStopping\n",
        "\n",
        "def model_def_3():\n",
        "    model = Sequential()\n",
        "\n",
        "    # First Convolutional layer\n",
        "    model.add(Conv2D(32, (3, 3), activation='relu', input_shape=(48, 48, 1)))\n",
        "    model.add(BatchNormalization())\n",
        "    model.add(MaxPooling2D(pool_size=(2, 2)))\n",
        "\n",
        "    # Second Convolutional layer\n",
        "    model.add(Conv2D(64, (3, 3), activation='relu'))\n",
        "    model.add(BatchNormalization())\n",
        "    model.add(MaxPooling2D(pool_size=(2, 2)))\n",
        "\n",
        "    # Third Convolutional layer\n",
        "    model.add(Conv2D(128, (3, 3), activation='relu'))\n",
        "    model.add(BatchNormalization())\n",
        "    model.add(MaxPooling2D(pool_size=(2, 2)))\n",
        "\n",
        "    # Flatten the output\n",
        "    model.add(Flatten())\n",
        "\n",
        "    # Fully connected layer\n",
        "    model.add(Dense(128, activation='relu'))\n",
        "    model.add(Dropout(0.5))\n",
        "\n",
        "    # Output layer\n",
        "    model.add(Dense(4, activation='softmax'))\n",
        "\n",
        "    # Compile the model\n",
        "    model.compile(optimizer='adam',\n",
        "                  loss='categorical_crossentropy',\n",
        "                  metrics=['accuracy'])\n",
        "    return model\n"
      ]
    },
    {
      "cell_type": "code",
      "execution_count": null,
      "metadata": {
        "id": "F-HA8iX_sDcz"
      },
      "outputs": [],
      "source": [
        "# Store model in varriable\n",
        "model_3 = model_def_3()\n",
        "\n",
        "# Print the summary of the model\n",
        "model_3.summary()"
      ]
    },
    {
      "cell_type": "code",
      "execution_count": null,
      "metadata": {
        "id": "YKx-paNQsDcz"
      },
      "outputs": [],
      "source": [
        "# Add early stopping\n",
        "# Early stopping callback\n",
        "early_stopping = EarlyStopping(monitor='val_loss', patience=5, restore_best_weights=True)\n",
        "\n",
        "# TRAINING THE MODEL\n",
        "model_3_history = model_3.fit(\n",
        "            train_set,\n",
        "            validation_data=validation_set, # Use the separate validation set\n",
        "            batch_size=32, # The model will process 32 samples at a time.\n",
        "            verbose=1, # This will display the progress of training in the console.\n",
        "            epochs=20, # The model will train for 20 epochs.\n",
        "            callbacks=[early_stopping]  # Add early stopping callback\n",
        "            )"
      ]
    },
    {
      "cell_type": "code",
      "execution_count": null,
      "metadata": {
        "id": "GRVtuySLsDc0"
      },
      "outputs": [],
      "source": [
        "plt.plot(model_3_history.history['accuracy'])\n",
        "plt.plot(model_3_history.history['val_accuracy'])\n",
        "plt.title('Model Accuracy')\n",
        "plt.ylabel('Accuracy')\n",
        "plt.xlabel('Epoch')\n",
        "plt.legend(['Train', 'Validation'], loc = 'upper left')\n",
        "\n",
        "plt.show()"
      ]
    },
    {
      "cell_type": "markdown",
      "metadata": {
        "id": "YqTLHHvKsDc0"
      },
      "source": [
        "**Observations:**\n",
        "- There are some fluctuations in the validation accuracy and loss. The fluctuations in validation accuracy and loss, especially the drop in validation accuracy in the later epochs, suggest potential overfitting. The model might be starting to memorize the training data rather than generalizing from it.\n",
        "- We could try adding regularization to prevent this overfitting.\n",
        "- We could consider fine-tuning a pre-trained model like VGG16, ResNet, or Inception since they have been trained on large datasets."
      ]
    },
    {
      "cell_type": "markdown",
      "metadata": {
        "id": "WiB-sMqgsDc0"
      },
      "source": [
        "## **4. CNN Model**"
      ]
    },
    {
      "cell_type": "code",
      "execution_count": null,
      "metadata": {
        "id": "600nTpCwsDc0"
      },
      "outputs": [],
      "source": [
        "#Clear model\n",
        "from tensorflow.keras import backend\n",
        "backend.clear_session()\n",
        "\n",
        "# Fixing the seed for random number generators\n",
        "import random\n",
        "np.random.seed(42)\n",
        "random.seed(42)\n",
        "tf.random.set_seed(42)"
      ]
    },
    {
      "cell_type": "code",
      "execution_count": null,
      "metadata": {
        "id": "toV5Z830sDc0"
      },
      "outputs": [],
      "source": [
        "import tensorflow as tf\n",
        "from tensorflow.keras.models import Sequential\n",
        "from tensorflow.keras.layers import Conv2D, MaxPooling2D, Flatten, Dense, Dropout, BatchNormalization\n",
        "from tensorflow.keras.callbacks import EarlyStopping\n",
        "from tensorflow.keras.regularizers import l2\n",
        "\n",
        "def model_def_4():\n",
        "    model = Sequential()\n",
        "\n",
        "    # First Convolutional layer\n",
        "    model.add(Conv2D(32, (3, 3), activation='relu', input_shape=(48, 48, 1), kernel_regularizer=l2(0.01)))\n",
        "    model.add(BatchNormalization())\n",
        "    model.add(MaxPooling2D(pool_size=(2, 2)))\n",
        "\n",
        "    # Second Convolutional layer\n",
        "    model.add(Conv2D(64, (3, 3), activation='relu', kernel_regularizer=l2(0.01)))\n",
        "    model.add(BatchNormalization())\n",
        "    model.add(MaxPooling2D(pool_size=(2, 2)))\n",
        "\n",
        "    # Third Convolutional layer\n",
        "    model.add(Conv2D(128, (3, 3), activation='relu', kernel_regularizer=l2(0.01)))\n",
        "    model.add(BatchNormalization())\n",
        "    model.add(MaxPooling2D(pool_size=(2, 2)))\n",
        "\n",
        "    # Flatten the output\n",
        "    model.add(Flatten())\n",
        "\n",
        "    # Fully connected layer\n",
        "    model.add(Dense(128, activation='relu', kernel_regularizer=l2(0.01)))\n",
        "    model.add(Dropout(0.5))\n",
        "\n",
        "    # Output layer\n",
        "    model.add(Dense(4, activation='softmax'))\n",
        "\n",
        "    # Compile the model\n",
        "    model.compile(optimizer='adam',\n",
        "                  loss='categorical_crossentropy',\n",
        "                  metrics=['accuracy'])\n",
        "    return model\n"
      ]
    },
    {
      "cell_type": "code",
      "execution_count": null,
      "metadata": {
        "id": "5Am-yoojsDc0"
      },
      "outputs": [],
      "source": [
        "# Store model in varriable\n",
        "model_4 = model_def_4()\n",
        "\n",
        "# Print the summary of the model\n",
        "model_4.summary()"
      ]
    },
    {
      "cell_type": "code",
      "execution_count": null,
      "metadata": {
        "id": "g06ImEWSsDc0"
      },
      "outputs": [],
      "source": [
        "# Add early stopping\n",
        "# Early stopping callback\n",
        "early_stopping = EarlyStopping(monitor='val_loss', patience=5, restore_best_weights=True)\n",
        "\n",
        "# TRAINING THE MODEL\n",
        "model_4_history = model_4.fit(\n",
        "            train_set,\n",
        "            validation_data=validation_set, # Use the separate validation set\n",
        "            batch_size=32, # The model will process 32 samples at a time.\n",
        "            verbose=1, # This will display the progress of training in the console.\n",
        "            epochs=20, # The model will train for 20 epochs.\n",
        "            callbacks=[early_stopping]  # Add early stopping callback\n",
        "            )"
      ]
    },
    {
      "cell_type": "code",
      "execution_count": null,
      "metadata": {
        "id": "gXnCiUNPsDc1"
      },
      "outputs": [],
      "source": [
        "plt.plot(model_4_history.history['accuracy'])\n",
        "plt.plot(model_4_history.history['val_accuracy'])\n",
        "plt.title('Model Accuracy')\n",
        "plt.ylabel('Accuracy')\n",
        "plt.xlabel('Epoch')\n",
        "plt.legend(['Train', 'Validation'], loc = 'upper left')\n",
        "\n",
        "plt.show()"
      ]
    },
    {
      "cell_type": "markdown",
      "metadata": {
        "id": "vlRWmHBisDc1"
      },
      "source": [
        "**Observations:**\n",
        "- Lots of flucation in the validation accuracy. Will try implementing a learning rate adjuster."
      ]
    },
    {
      "cell_type": "code",
      "execution_count": null,
      "metadata": {
        "id": "8ZLXc9L_sDc1"
      },
      "outputs": [],
      "source": [
        "import tensorflow as tf\n",
        "from tensorflow.keras.callbacks import LearningRateScheduler, EarlyStopping\n",
        "\n",
        "# Define a learning rate schedule function\n",
        "def lr_schedule(epoch, lr):\n",
        "    if epoch < 10:\n",
        "        return float(lr)\n",
        "    else:\n",
        "        return float(lr * tf.math.exp(-0.1))\n",
        "\n",
        "# Learning rate scheduler callback\n",
        "lr_scheduler = LearningRateScheduler(lr_schedule)\n",
        "\n",
        "# Early stopping callback\n",
        "early_stopping = EarlyStopping(monitor='val_loss', patience=5, restore_best_weights=True)\n",
        "\n",
        "# TRAINING THE MODEL\n",
        "model_4_history = model_4.fit(\n",
        "            train_set,\n",
        "            validation_data=validation_set,\n",
        "            batch_size=32,\n",
        "            verbose=1,\n",
        "            epochs=30,\n",
        "            callbacks=[early_stopping, lr_scheduler]  # Add early stopping and learning rate scheduler callbacks\n",
        "            )"
      ]
    },
    {
      "cell_type": "code",
      "execution_count": null,
      "metadata": {
        "id": "F_qE-zhfsDc1"
      },
      "outputs": [],
      "source": [
        "plt.plot(model_4_history.history['accuracy'])\n",
        "plt.plot(model_4_history.history['val_accuracy'])\n",
        "plt.title('Model Accuracy')\n",
        "plt.ylabel('Accuracy')\n",
        "plt.xlabel('Epoch')\n",
        "plt.legend(['Train', 'Validation'], loc = 'upper left')\n",
        "\n",
        "plt.show()"
      ]
    },
    {
      "cell_type": "markdown",
      "metadata": {
        "id": "FMiKta97sDc1"
      },
      "source": [
        "**Observations:**\n",
        "- The model is making progress with the addition of the L2 regularization and learning rate scheduler.\n",
        "- The learning rate adjuster does appear to help the model converge more smoothly by reducing the learning rate over time, but at about the 25th epoch, the training accuracy continues to improve while the validation accuracy stays the same.\n"
      ]
    },
    {
      "cell_type": "markdown",
      "metadata": {
        "id": "ZMeJbW0BsDc1"
      },
      "source": [
        "## **5. CNN Model**\n",
        "- Test rgb color mode on 1st model archetecture"
      ]
    },
    {
      "cell_type": "code",
      "execution_count": null,
      "metadata": {
        "id": "SfchiHJVsDc1"
      },
      "outputs": [],
      "source": [
        "from tensorflow.keras.preprocessing.image import ImageDataGenerator #provides real-time data augmentation and preprocessing of image data\n",
        "\n",
        "batch_size  = 32 # number of images to work with at a time\n",
        "img_size = 48 # size of images\n",
        "folder_path = 'Facial_emotion_images/'\n",
        "\n",
        "# TRAINING SET\n",
        "# Define data augmentation and preprocessing\n",
        "datagen_train_rgb = ImageDataGenerator(horizontal_flip = True,\n",
        "                                   #  Randomly flips the images horizontally (Would not want to use if direction matters like text images)\n",
        "                                    brightness_range=(0.,2.),\n",
        "                                    # simulate different lighting conditions, make model more robust to variations in brightness. can be scaled down to 0 (completely dark) or up to 2 (twice as bright as the original).\n",
        "                                    rescale=1./255,\n",
        "                                    # Normalize pixel values to 0-1 scale. Max pixel value is 255 so this will divide all values by that.\n",
        "                                    # Helps make convergence happen quicker: Gradients during backpropagation are more balanced, preventing some weights from updating too quickly or too slowly\n",
        "                                    shear_range=0.3)\n",
        "                                    # shifting the pixels in a direction parallel to a given axis. simulates the effect on camera angle changing.\n",
        "\n",
        "# Load and augment training data\n",
        "train_set_rgb = datagen_train.flow_from_directory(folder_path + \"train\", # loads images from these subdirectories and assigns the corresponding class label based on the subdirectory name.\n",
        "                                              target_size = (img_size, img_size),\n",
        "                                              color_mode = 'rgb' ,\n",
        "                                              batch_size = batch_size,\n",
        "                                              class_mode = 'categorical', # indicates that the labels are one-hot encoded.\n",
        "                                              shuffle = True) # shuffles the data at each epoch\n",
        "\n",
        "# TEST SET\n",
        "# Define data augmentation and preprocessing\n",
        "datagen_test_rgb = ImageDataGenerator(rescale=1./255) # Normalize pixel values to 0-1 scale. Max pixel value is 255 so this will divide all values by that.\n",
        "# The training set has significantly more preprocessing to increase its diversity and ability to deal with real world data\n",
        "# We will not perform the same augmentation sets on the test and validation sets to ensure the model is evaluated using real world data.\n",
        "\n",
        "\n",
        "# Load and augment training data\n",
        "test_set_rgb = datagen_test.flow_from_directory(folder_path + \"test\", # loads images from these subdirectories and assigns the corresponding class label based on the subdirectory name.\n",
        "                                              target_size = (img_size, img_size),\n",
        "                                              color_mode = 'rgb' ,\n",
        "                                              batch_size = batch_size,\n",
        "                                              class_mode = 'categorical', # indicates that the labels are one-hot encoded.\n",
        "                                              shuffle = False) # Will not shuffle test or validation data\n",
        "\n",
        "# VALIDATION SET\n",
        "# Define data augmentation and preprocessing\n",
        "datagen_val_rgb = ImageDataGenerator(rescale=1./255) # Normalize pixel values to 0-1 scale. Max pixel value is 255 so this will divide all values by that.\n",
        "# The training set has significantly more preprocessing to increase its diversity and ability to deal with real world data\n",
        "# We will not perform the same augmentation sets on the test and validation sets to ensure the model is evaluated using real world data.\n",
        "\n",
        "\n",
        "# Load and augment training data\n",
        "validation_set_rgb = datagen_val.flow_from_directory(folder_path + \"validation\", # loads images from these subdirectories and assigns the corresponding class label based on the subdirectory name.\n",
        "                                              target_size = (img_size, img_size),\n",
        "                                              color_mode = 'rgb' ,\n",
        "                                              batch_size = batch_size,\n",
        "                                              class_mode = 'categorical', # indicates that the labels are one-hot encoded.\n",
        "                                              shuffle = False) # Will not shuffle test or validation data"
      ]
    },
    {
      "cell_type": "code",
      "execution_count": null,
      "metadata": {
        "id": "hcR1M8WssDc1"
      },
      "outputs": [],
      "source": [
        "import tensorflow as tf\n",
        "from tensorflow.keras.models import Sequential\n",
        "from tensorflow.keras.layers import Conv2D, MaxPooling2D, Flatten, Dense, Dropout\n",
        "\n",
        "def model_def_1():\n",
        "    # Create Sequential Model Object\n",
        "    model = Sequential()\n",
        "\n",
        "    # First Convolutional layer\n",
        "    # 32 filters, kernel size of 3x3\n",
        "    # Each filter is designed to detect specific features in the image. For example, one filter might detect horizontal edges, while another detects vertical edges.\n",
        "    # input shape = (48, 48, 1) # 1 for grayscale images\n",
        "    # Activation function is relu\n",
        "    model.add(Conv2D(32, (3, 3), activation='relu', input_shape=(48, 48, 3)))\n",
        "    # The output of the convolution operation will represent the presence of specific features at different spatial locations in the input image.\n",
        "\n",
        "    # Choosing not to include padding which would ensure that that edge features are not lost. Most of the important features of the images should be in the center of the photo\n",
        "    # and this would increase the computational load as including it would increase the spatial dimensions of the feature maps.\n",
        "\n",
        "    #Max-pooling layer with a pool size of 2x2\n",
        "    model.add(MaxPooling2D(pool_size=(2, 2)))\n",
        "    # The pooling layer will further reduce the dimensions of the data.\n",
        "    # It will run through each 2x2 area of the image and select the max value from the section. We could also use average pooling instead.\n",
        "\n",
        "    # Second convolutional layer\n",
        "    # with 64 filters and a kernel size of 3x3\n",
        "    model.add(Conv2D(64, (3, 3), activation='relu'))\n",
        "    # Pooling layer\n",
        "    model.add(MaxPooling2D(pool_size=(2, 2)))\n",
        "\n",
        "    # Third convolutional layer\n",
        "    # with 128 filters and a kernel size of 3x3\n",
        "    model.add(Conv2D(128, (3, 3), activation='relu'))\n",
        "    # Pooling layer\n",
        "    model.add(MaxPooling2D(pool_size=(2, 2)))\n",
        "\n",
        "    # Flatten the output\n",
        "    model.add(Flatten())\n",
        "    # will reshapes into a vector that can be fed into the fully connected (dense) layers\n",
        "\n",
        "    # Fully connected layer\n",
        "    # Classify the features extracted by the convolutional layers.\n",
        "    model.add(Dense(128, activation='relu'))\n",
        "\n",
        "    # Dropout layer\n",
        "    # prevents overfitting by randomly setting some inputs to zero during trianing. Will help model generalize better by reducing its reliance on specific neurons.\n",
        "    model.add(Dropout(0.5))  # 50 % of neurons will be dropped in each itteration\n",
        "\n",
        "    # Output layer\n",
        "    model.add(Dense(4, activation='softmax'))  # 4 classes for the emotions\n",
        "    # Softmax for classification problem\n",
        "        #  It converts the raw output scores (logits) from the network into probabilities, which sum to 1.\n",
        "\n",
        "    # Compile the model\n",
        "    model.compile(optimizer='adam', # The optimizer adjusts the model’s weights\n",
        "                  loss='categorical_crossentropy', # # The loss function quantifies how well the model is performing\n",
        "                  metrics=['accuracy']) # track how often the predictions match the true labels\n",
        "    return model"
      ]
    },
    {
      "cell_type": "code",
      "execution_count": null,
      "metadata": {
        "id": "vVWwDnhEsDc2"
      },
      "outputs": [],
      "source": [
        "# Store model in varriable\n",
        "model_1 = model_def_1()\n",
        "\n",
        "# Print the summary of the model\n",
        "model_1.summary()"
      ]
    },
    {
      "cell_type": "code",
      "execution_count": null,
      "metadata": {
        "id": "ntIwwlnasDc2"
      },
      "outputs": [],
      "source": [
        "# Did compiling in the section above.\n",
        "\n",
        "# TRAINING THE MODEL\n",
        "model_1_history_rgb = model_1.fit(\n",
        "            train_set_rgb,\n",
        "            validation_data=validation_set_rgb, # Use the separate validation set\n",
        "            batch_size=32, # The model will process 32 samples at a time.\n",
        "            verbose=1, # This will display the progress of training in the console.\n",
        "            epochs=20 # The model will train for 20 epochs.\n",
        "            )"
      ]
    },
    {
      "cell_type": "code",
      "execution_count": null,
      "metadata": {
        "id": "kKbisvPrsDc2"
      },
      "outputs": [],
      "source": [
        "import matplotlib.pyplot as plt\n",
        "plt.plot(model_1_history_rgb.history['accuracy'])\n",
        "plt.plot(model_1_history_rgb.history['val_accuracy'])\n",
        "plt.title('Model Accuracy')\n",
        "plt.ylabel('Accuracy')\n",
        "plt.xlabel('Epoch')\n",
        "plt.legend(['Train', 'Validation'], loc = 'upper left')\n",
        "\n",
        "plt.show()"
      ]
    },
    {
      "cell_type": "markdown",
      "metadata": {
        "id": "vKM1KMfhsDc2"
      },
      "source": [
        "**Observations:**\n",
        "- The rgb model performed better in terms of training accuracy (75 v 72 for greyscale) and validation accuracy (72 v 71 for greyscale), however the model appears to be overfitting. The training validation surpases the validation accuracy at the 13th epoch."
      ]
    },
    {
      "cell_type": "markdown",
      "metadata": {
        "id": "S1LQ64iTsSH0"
      },
      "source": [
        "## **Think About It:**\n",
        "\n",
        "* Did the models have a satisfactory performance? If not, then what are the possible reasons?\n",
        "    - I think my 1st model performed the best because the training and validation accuracies were both similar and above 70%. This model still did not perform well on the neutral class with an F1 of only 58. It would be important to improve this category otherwise the model will recognize neutral emotion as sad.\n",
        "    - The reason that the neutral classification is difficult to classify is because the emotion features are subtle and closely related to the sad features.\n",
        "\n",
        "* Which Color mode showed better overall performance? What are the possible reasons? Do you think having 'rgb' color mode is needed because the images are already black and white?\n",
        "    - My rgb classifier performed better than my greyscale classifier when you compare training and validation accuracies, however the model demonstrated overfitting. I think that the model was overfitting because while the images were in black and white, they were represented in the rgb structure. Some data could be duplicated leading to overtraining on the same features of the training set.\n",
        "    - It is more computationally efficient to use the greyscale mode since it does not retain duplicative information from the images that will need to be trained on. I would use greyscale going forward."
      ]
    },
    {
      "cell_type": "markdown",
      "metadata": {
        "id": "boQi7epI3Lsu"
      },
      "source": [
        "# **Transfer Learning Architectures**\n",
        "\n",
        "In this section, we will create several Transfer Learning architectures. For the pre-trained models, we will select three popular architectures namely, VGG16, ResNet v2, and Efficient Net. The difference between these architectures and the previous architectures is that these will require 3 input channels while the earlier ones worked on 'grayscale' images. Therefore, we need to create new DataLoaders."
      ]
    },
    {
      "cell_type": "markdown",
      "metadata": {
        "id": "7kMsvUQuD89r"
      },
      "source": [
        "### **Creating our Data Loaders for Transfer Learning Architectures**\n",
        "\n",
        "In this section, we are creating data loaders that we will use as inputs to our Neural Network. We will have to go with color_mode = 'rgb' as this is the required format for the transfer learning architectures."
      ]
    },
    {
      "cell_type": "code",
      "execution_count": null,
      "metadata": {
        "id": "RUo10_ZfsDc3"
      },
      "outputs": [],
      "source": [
        "from tensorflow.keras.preprocessing.image import ImageDataGenerator #provides real-time data augmentation and preprocessing of image data\n",
        "\n",
        "batch_size  = 32 # number of images to work with at a time\n",
        "img_size = 48 # size of images\n",
        "folder_path = 'Facial_emotion_images/'\n",
        "\n",
        "# TRAINING SET\n",
        "# Define data augmentation and preprocessing\n",
        "datagen_train_rgb = ImageDataGenerator(horizontal_flip = True,\n",
        "                                   #  Randomly flips the images horizontally (Would not want to use if direction matters like text images)\n",
        "                                    brightness_range=(0.,2.),\n",
        "                                    # simulate different lighting conditions, make model more robust to variations in brightness. can be scaled down to 0 (completely dark) or up to 2 (twice as bright as the original).\n",
        "                                    rescale=1./255,\n",
        "                                    # Normalize pixel values to 0-1 scale. Max pixel value is 255 so this will divide all values by that.\n",
        "                                    # Helps make convergence happen quicker: Gradients during backpropagation are more balanced, preventing some weights from updating too quickly or too slowly\n",
        "                                    shear_range=0.3)\n",
        "                                    # shifting the pixels in a direction parallel to a given axis. simulates the effect on camera angle changing.\n",
        "\n",
        "# Load and augment training data\n",
        "train_set_rgb = datagen_train.flow_from_directory(folder_path + \"train\", # loads images from these subdirectories and assigns the corresponding class label based on the subdirectory name.\n",
        "                                              target_size = (img_size, img_size),\n",
        "                                              color_mode = 'rgb' ,\n",
        "                                              batch_size = batch_size,\n",
        "                                              class_mode = 'categorical', # indicates that the labels are one-hot encoded.\n",
        "                                              shuffle = True) # shuffles the data at each epoch\n",
        "\n",
        "# TEST SET\n",
        "# Define data augmentation and preprocessing\n",
        "datagen_test_rgb = ImageDataGenerator(rescale=1./255) # Normalize pixel values to 0-1 scale. Max pixel value is 255 so this will divide all values by that.\n",
        "# The training set has significantly more preprocessing to increase its diversity and ability to deal with real world data\n",
        "# We will not perform the same augmentation sets on the test and validation sets to ensure the model is evaluated using real world data.\n",
        "\n",
        "\n",
        "# Load and augment training data\n",
        "test_set_rgb = datagen_test.flow_from_directory(folder_path + \"test\", # loads images from these subdirectories and assigns the corresponding class label based on the subdirectory name.\n",
        "                                              target_size = (img_size, img_size),\n",
        "                                              color_mode = 'rgb' ,\n",
        "                                              batch_size = batch_size,\n",
        "                                              class_mode = 'categorical', # indicates that the labels are one-hot encoded.\n",
        "                                              shuffle = False) # Will not shuffle test or validation data\n",
        "\n",
        "# VALIDATION SET\n",
        "# Define data augmentation and preprocessing\n",
        "datagen_val_rgb = ImageDataGenerator(rescale=1./255) # Normalize pixel values to 0-1 scale. Max pixel value is 255 so this will divide all values by that.\n",
        "# The training set has significantly more preprocessing to increase its diversity and ability to deal with real world data\n",
        "# We will not perform the same augmentation sets on the test and validation sets to ensure the model is evaluated using real world data.\n",
        "\n",
        "\n",
        "# Load and augment training data\n",
        "validation_set_rgb = datagen_val.flow_from_directory(folder_path + \"validation\", # loads images from these subdirectories and assigns the corresponding class label based on the subdirectory name.\n",
        "                                              target_size = (img_size, img_size),\n",
        "                                              color_mode = 'rgb' ,\n",
        "                                              batch_size = batch_size,\n",
        "                                              class_mode = 'categorical', # indicates that the labels are one-hot encoded.\n",
        "                                              shuffle = False) # Will not shuffle test or validation data"
      ]
    },
    {
      "cell_type": "code",
      "execution_count": null,
      "metadata": {
        "id": "hWmbGuuRD89r"
      },
      "outputs": [],
      "source": [
        "# Clearing backend\n",
        "from tensorflow.keras import backend\n",
        "\n",
        "backend.clear_session()"
      ]
    },
    {
      "cell_type": "code",
      "execution_count": null,
      "metadata": {
        "id": "LC-SdphzsDc3"
      },
      "outputs": [],
      "source": [
        "# Fixing the seed for random number generators\n",
        "np.random.seed(42)\n",
        "\n",
        "import random\n",
        "\n",
        "random.seed(42)\n",
        "\n",
        "tf.random.set_seed(42)"
      ]
    },
    {
      "cell_type": "markdown",
      "metadata": {
        "id": "vaUYQdkf7pDG"
      },
      "source": [
        "## **6. VGG16 Model**"
      ]
    },
    {
      "cell_type": "markdown",
      "metadata": {
        "id": "ThCSNrWC4HW0"
      },
      "source": [
        "### **Importing the VGG16 Architecture**"
      ]
    },
    {
      "cell_type": "code",
      "execution_count": null,
      "metadata": {
        "id": "7c83c83e"
      },
      "outputs": [],
      "source": [
        "# Importing necessary libraries\n",
        "from tensorflow.keras import Model\n",
        "\n",
        "from tensorflow.keras.applications.vgg16 import VGG16\n",
        "\n",
        "vgg_model = VGG16(weights = 'imagenet',\n",
        "\n",
        "                       include_top = False,\n",
        "\n",
        "                       input_shape = (48, 48, 3), pooling = 'max')"
      ]
    },
    {
      "cell_type": "code",
      "execution_count": null,
      "metadata": {
        "id": "Z-2812E3sDc3"
      },
      "outputs": [],
      "source": [
        "# Checking summary of the model\n",
        "vgg_model.summary()"
      ]
    },
    {
      "cell_type": "markdown",
      "metadata": {
        "id": "m60O2bnfsDc3"
      },
      "source": [
        "- The VGG16 model has **more than 14.7 M trainable parameters.**\n",
        "- Use the pre-trained weights and biases.\n",
        "- Use the output of the 3rd block of the VGG16 model as the input of our new model."
      ]
    },
    {
      "cell_type": "code",
      "execution_count": null,
      "metadata": {
        "id": "BHWBU2KBsDc3"
      },
      "outputs": [],
      "source": [
        "transfer_layer = vgg_model.get_layer('block3_pool')\n",
        "\n",
        "# Don't train\n",
        "vgg_model.trainable = False"
      ]
    },
    {
      "cell_type": "markdown",
      "metadata": {
        "id": "X76HMyZX4edM"
      },
      "source": [
        "### **Model Building**\n",
        "\n",
        "- Import VGG16 upto the layer of your choice and add Fully Connected layers on top of it."
      ]
    },
    {
      "cell_type": "code",
      "execution_count": null,
      "metadata": {
        "id": "8b123bc6"
      },
      "outputs": [],
      "source": [
        "from tensorflow.keras.layers import Conv2D, MaxPooling2D, Flatten, Dense, Dropout, BatchNormalization\n",
        "from tensorflow.keras.models import Sequential\n",
        "\n",
        "# Add classification layers on top of it\n",
        "x = Flatten()(transfer_layer.output) #u define what opporation to perform 1st with input as output of transfer layer\n",
        "#create 2 D feature maps and store in x\n",
        "\n",
        "x = Dense(256, activation = 'relu')(x) #build dense layer with input as X\n",
        "\n",
        "x = Dense(128, activation = 'relu')(x) #do again\n",
        "\n",
        "x = Dropout(0.3)(x)\n",
        "\n",
        "x = Dense(64, activation = 'relu')(x) #one more class\n",
        "\n",
        "x = BatchNormalization()(x) #norm betweeen 0-1 can still be beyond techically\n",
        "\n",
        "pred = Dense(4, activation = 'softmax')(x)\n",
        "\n",
        "# Initializing the model\n",
        "model_6 = Model(vgg_model.input, pred) #input going to vegg_model and use our build classifier pred\n",
        "#why build custom classificier\n",
        "#imagenet classes are general\n",
        "#"
      ]
    },
    {
      "cell_type": "markdown",
      "metadata": {
        "id": "xbnOK-w2sDc4"
      },
      "source": [
        "fine tunning would include training\n",
        "this is custom classification\n",
        "feature learning learns features of the images\n",
        "can use same features and classify into different catagories with same features\n"
      ]
    },
    {
      "cell_type": "markdown",
      "metadata": {
        "id": "t6vK7u7w8GsM"
      },
      "source": [
        "### **Compiling and Training the VGG16 Model**"
      ]
    },
    {
      "cell_type": "code",
      "execution_count": null,
      "metadata": {
        "id": "86b249f1"
      },
      "outputs": [],
      "source": [
        "# Compiling the model\n",
        "model_6.compile(loss = 'categorical_crossentropy',\n",
        "\n",
        "              optimizer = tf.keras.optimizers.Adamax(learning_rate = 0.0005),\n",
        "\n",
        "              metrics = ['accuracy'])"
      ]
    },
    {
      "cell_type": "code",
      "execution_count": null,
      "metadata": {
        "id": "CnPNAXjSsDc4"
      },
      "outputs": [],
      "source": [
        "# Fitting the model\n",
        "history_6 = model_6.fit(\n",
        "\n",
        "            train_set_rgb,\n",
        "\n",
        "            epochs = 10,\n",
        "\n",
        "            validation_data=validation_set_rgb,\n",
        "\n",
        "            verbose = 2\n",
        ")"
      ]
    },
    {
      "cell_type": "markdown",
      "metadata": {
        "id": "Un-19jPckK07"
      },
      "source": [
        "### **Evaluating the VGG16 model**"
      ]
    },
    {
      "cell_type": "code",
      "execution_count": null,
      "metadata": {
        "id": "t6Y_bSLCkcvr"
      },
      "outputs": [],
      "source": [
        "plt.plot(history_6.history['accuracy'])\n",
        "\n",
        "plt.plot(history_6.history['val_accuracy'])\n",
        "\n",
        "plt.title('Model Accuracy')\n",
        "\n",
        "plt.ylabel('Accuracy')\n",
        "\n",
        "plt.xlabel('Epoch')\n",
        "\n",
        "plt.legend(['Train', 'Validation'], loc = 'upper left')\n",
        "\n",
        "# Display the plot\n",
        "plt.show()"
      ]
    },
    {
      "cell_type": "code",
      "execution_count": null,
      "metadata": {
        "id": "pvTPmEE-sDc5"
      },
      "outputs": [],
      "source": [
        "# Making predictions on the test data\n",
        "y_pred_test = model_6.predict(test_set_rgb)\n",
        "\n",
        "#For each image, returns index for highest probability class\n",
        "test_pred = [np.argmax(i) for i in y_pred_test]\n",
        "\n",
        "# Get true labels from the test set\n",
        "test_labels = test_set_rgb.classes\n",
        "\n",
        "# Generate confusion matrix\n",
        "cm = confusion_matrix(test_labels, test_pred)"
      ]
    },
    {
      "cell_type": "code",
      "source": [
        "import matplotlib.pyplot as plt\n",
        "import seaborn as sns\n",
        "from sklearn.metrics import classification_report\n",
        "# Evaluate performance on Test\n",
        "\n",
        "# Plot confusion matrix\n",
        "plt.figure(figsize=(10, 8))\n",
        "sns.heatmap(cm, annot=True, fmt='d', cmap='Blues', xticklabels=test_set_rgb.class_indices.keys(), yticklabels=test_set_rgb.class_indices.keys())\n",
        "plt.xlabel('Predicted')\n",
        "plt.ylabel('Actual')\n",
        "plt.title('Confusion Matrix')\n",
        "plt.show()\n",
        "\n",
        "# Print classification report\n",
        "print(classification_report(test_labels, test_pred, target_names=test_set_rgb.class_indices.keys()))"
      ],
      "metadata": {
        "id": "QApQJ78-qxI6"
      },
      "execution_count": null,
      "outputs": []
    },
    {
      "cell_type": "markdown",
      "metadata": {
        "id": "tW6kPSky59Gv"
      },
      "source": [
        "**Observations and Insights:**\n",
        "**Think About It:**\n",
        "\n",
        "- What do you infer from the general trend in the training performance?\n",
        "    - The pretrained model helped generalize over unseen data as the model performed better on the validation data than the test.\n",
        "- Is the training accuracy consistently improving?\n",
        "    - The training accuracy does level off at about the 7th epoch\n",
        "- Is the validation accuracy also improving similarly?\n",
        "    - The validation accuracy is higher than the training accuracy. It dips between the 3rd and 5th epoch, then levels out thereafter."
      ]
    },
    {
      "cell_type": "markdown",
      "metadata": {
        "id": "AfC2Kx0v7Sa1"
      },
      "source": [
        "**Note: You can even go back and build your own architecture on top of the VGG16 Transfer layer and see if you can improve the performance**"
      ]
    },
    {
      "cell_type": "markdown",
      "metadata": {
        "id": "E0Mew4Cc7u7k"
      },
      "source": [
        "## **7. ResNet V2 Model**"
      ]
    },
    {
      "cell_type": "code",
      "execution_count": null,
      "metadata": {
        "id": "568a5c9a",
        "scrolled": false
      },
      "outputs": [],
      "source": [
        "import tensorflow as tf\n",
        "from tensorflow.keras.applications import ResNet50V2\n",
        "from tensorflow.keras.layers import Dense, GlobalAveragePooling2D\n",
        "from tensorflow.keras.models import Model\n",
        "\n",
        "# Load the ResNet101 architecture\n",
        "base_model = ResNet50V2(include_top=False, weights='imagenet', input_shape=(48, 48, 3))\n",
        "# Load pretrained weights from imagenet\n",
        "# include_top excludes the fully connected layer at the top of the network\n",
        "# Use ResNet50V2 since it will be computationally efficient and less prone to overfitting\n"
      ]
    },
    {
      "cell_type": "markdown",
      "metadata": {
        "id": "ay4RedCQlL4O"
      },
      "source": [
        "### **Model Building**\n",
        "\n",
        "- Import Resnet v2 upto the layer of your choice and add Fully Connected layers on top of it."
      ]
    },
    {
      "cell_type": "code",
      "execution_count": null,
      "metadata": {
        "id": "911d3335"
      },
      "outputs": [],
      "source": [
        "import tensorflow as tf\n",
        "from tensorflow.keras.applications import ResNet50V2\n",
        "from tensorflow.keras.layers import Dense, Flatten, Dropout, BatchNormalization\n",
        "from tensorflow.keras.models import Model\n",
        "\n",
        "# Get the specific layer from ResNet\n",
        "transfer_layer_Resnet = base_model.get_layer('conv4_block6_out')\n",
        "# layer is deep enough to capture meaningful features but not so deep that it overfits\n",
        "\n",
        "# Don't train the base model\n",
        "base_model.trainable = False\n",
        "\n",
        "#Flatten data for ANN\n",
        "x = Flatten()(transfer_layer_Resnet.output)  # Flatten the output from the transfer layer\n",
        "\n",
        "# Add a Dense layer with 256 neurons\n",
        "x = Dense(256, activation='relu')(x)\n",
        "\n",
        "# Add a Dense layer with 128 neurons\n",
        "x = Dense(128, activation='relu')(x)\n",
        "\n",
        "# Add a Dropout layer with a dropout ratio of 0.3\n",
        "x = Dropout(0.3)(x)\n",
        "\n",
        "# Add a Dense layer with 64 neurons\n",
        "x = Dense(64, activation='relu')(x)\n",
        "\n",
        "# Add a Batch Normalization layer\n",
        "x = BatchNormalization()(x)\n",
        "\n",
        "# Add the final dense layer with 4 neurons and use a 'softmax' activation\n",
        "pred = Dense(4, activation='softmax')(x)\n",
        "\n",
        "# Create the final model\n",
        "model_res = Model(inputs=base_model.input, outputs=pred)\n",
        "\n",
        "# Compile the model\n",
        "model_res.compile(optimizer='adam', loss='categorical_crossentropy', metrics=['accuracy'])\n",
        "\n",
        "# Display the model's architecture\n",
        "model_res.summary()"
      ]
    },
    {
      "cell_type": "markdown",
      "metadata": {
        "id": "Tmtcd1ZElpJy"
      },
      "source": [
        "### **Compiling and Training the Model**"
      ]
    },
    {
      "cell_type": "code",
      "execution_count": null,
      "metadata": {
        "id": "fe959789"
      },
      "outputs": [],
      "source": [
        "from tensorflow.keras.callbacks import LearningRateScheduler, EarlyStopping\n",
        "# Train the model\n",
        "# Define a learning rate schedule function\n",
        "def lr_schedule(epoch, lr):\n",
        "    if epoch < 10:\n",
        "        return float(lr)\n",
        "    else:\n",
        "        return float(lr * tf.math.exp(-0.1))\n",
        "\n",
        "# Learning rate scheduler callback\n",
        "lr_scheduler = LearningRateScheduler(lr_schedule)\n",
        "# rate starts at 0.001 and will decrease after 10 epochs\n",
        "\n",
        "# Early stopping callback\n",
        "# set to monitor val_loss with a patience of 5 epochs\n",
        "# means training will stop if the validation loss does not improve for 5 consecutive epochs\n",
        "early_stopping = EarlyStopping(monitor='val_loss', patience=5, restore_best_weights=True)\n",
        "\n",
        "# Train the model with callbacks\n",
        "history_res = model_res.fit(\n",
        "    train_set_rgb,\n",
        "    steps_per_epoch=train_set_rgb.samples // train_set_rgb.batch_size,\n",
        "    validation_data=validation_set_rgb,\n",
        "    validation_steps=validation_set_rgb.samples // validation_set_rgb.batch_size,\n",
        "    epochs=30,\n",
        "    callbacks=[early_stopping, lr_scheduler]\n",
        ")\n",
        "\n"
      ]
    },
    {
      "cell_type": "markdown",
      "metadata": {
        "id": "McHEzBlhxw39"
      },
      "source": [
        "### **Evaluating the ResNet Model**"
      ]
    },
    {
      "cell_type": "code",
      "execution_count": null,
      "metadata": {
        "id": "IEl6IQf0xwci"
      },
      "outputs": [],
      "source": [
        "import numpy as np\n",
        "from sklearn.metrics import confusion_matrix\n",
        "# Make Predictions on test set\n",
        "test_pred_res = model_res.predict(test_set_rgb)\n",
        "# Will return array of probabilities for each class\n",
        "\n",
        "#For each image, returns index for highest probability class\n",
        "test_pred_res = [np.argmax(i) for i in test_pred_res]\n",
        "\n",
        "# Get true labels from the test set\n",
        "test_labels = test_set_rgb.classes\n",
        "\n",
        "# Generate confusion matrix\n",
        "cm = confusion_matrix(test_labels, test_pred_res)"
      ]
    },
    {
      "cell_type": "code",
      "execution_count": null,
      "metadata": {
        "id": "eBjcZKyNsDc6"
      },
      "outputs": [],
      "source": [
        "import matplotlib.pyplot as plt\n",
        "import seaborn as sns\n",
        "from sklearn.metrics import classification_report\n",
        "# Evaluate performance on Test\n",
        "\n",
        "# Plot confusion matrix\n",
        "plt.figure(figsize=(10, 8))\n",
        "sns.heatmap(cm, annot=True, fmt='d', cmap='Blues', xticklabels=test_set_rgb.class_indices.keys(), yticklabels=test_set_rgb.class_indices.keys())\n",
        "plt.xlabel('Predicted')\n",
        "plt.ylabel('Actual')\n",
        "plt.title('Confusion Matrix')\n",
        "plt.show()\n",
        "\n",
        "# Print classification report\n",
        "print(classification_report(test_labels, test_pred_res, target_names=test_set_rgb.class_indices.keys()))"
      ]
    },
    {
      "cell_type": "markdown",
      "metadata": {
        "id": "3htKZRdomiOY"
      },
      "source": [
        "**Observations and Insights:**\n",
        "- Suprisingly again, our suprise category that we had less data for, is performing the best over all the categories. Suprise features must be distinct enough that we do not need extensive data to train.\n",
        "- Neutral performed the worse with an f1-score of 0. It was most commonly mistaken for 'sad'. The base model does not identify the neutral catagory, though the layer that we choose should be deep enough to identify the subtle feature differences between sad and neutral. We could potentially use class weights to correct this training imbalance or we may need to fine-tune the model to meet the needs of our specific class.\n",
        "- The F1 scores in all were relatively low for this model.\n",
        "\n",
        "**Note: You can even go back and build your own architecture on top of the ResNet Transfer layer and see if you can improve the performance.**"
      ]
    },
    {
      "cell_type": "markdown",
      "metadata": {
        "id": "FmnDG4ZbncoR"
      },
      "source": [
        "## **8. EfficientNet Model**"
      ]
    },
    {
      "cell_type": "code",
      "execution_count": null,
      "metadata": {
        "id": "613c7a71"
      },
      "outputs": [],
      "source": [
        "import tensorflow as tf\n",
        "import tensorflow.keras.applications as ap\n",
        "from tensorflow.keras import Model\n",
        "\n",
        "# Load model\n",
        "EfficientNet = ap.EfficientNetV2B2(include_top=False,weights=\"imagenet\", input_shape= (48, 48, 3))\n"
      ]
    },
    {
      "cell_type": "markdown",
      "metadata": {
        "id": "6kDNE8pVngqC"
      },
      "source": [
        "### **Model Building**\n",
        "\n",
        "- Import EfficientNet upto the layer of your choice and add Fully Connected layers on top of it."
      ]
    },
    {
      "cell_type": "code",
      "execution_count": null,
      "metadata": {
        "id": "2b27a6e1"
      },
      "outputs": [],
      "source": [
        "# Get the specific layer from ResNet\n",
        "transfer_layer_eff = EfficientNet.get_layer('block6a_expand_activation')\n",
        "# layer is deep enough to capture meaningful features but not so deep that it overfits\n",
        "\n",
        "# Don't train the base model\n",
        "EfficientNet.trainable = False\n",
        "\n",
        "#Flatten data for ANN\n",
        "x = Flatten()(transfer_layer_eff.output)  # Flatten the output from the transfer layer\n",
        "\n",
        "# Add a Dense layer with 256 neurons\n",
        "x = Dense(256, activation='relu')(x)\n",
        "\n",
        "# Add a Dense layer with 128 neurons\n",
        "x = Dense(128, activation='relu')(x)\n",
        "\n",
        "# Add a Dropout layer with a dropout ratio of 0.3\n",
        "x = Dropout(0.3)(x)\n",
        "\n",
        "# Add a Dense layer with 64 neurons\n",
        "x = Dense(64, activation='relu')(x)\n",
        "\n",
        "# Add a Batch Normalization layer\n",
        "x = BatchNormalization()(x)\n",
        "\n",
        "# Add the final dense layer with 4 neurons and use a 'softmax' activation\n",
        "pred = Dense(4, activation='softmax')(x)\n",
        "\n",
        "# Create the final model\n",
        "model_eff = Model(inputs=EfficientNet.input, outputs=pred)\n",
        "\n",
        "# Compile the model\n",
        "model_eff.compile(optimizer='adam', loss='categorical_crossentropy', metrics=['accuracy'])\n",
        "\n",
        "# Display the model's architecture\n",
        "model_eff.summary()"
      ]
    },
    {
      "cell_type": "markdown",
      "metadata": {
        "id": "hVv4Df_In32Y"
      },
      "source": [
        "### **Compiling and Training the Model**"
      ]
    },
    {
      "cell_type": "code",
      "execution_count": null,
      "metadata": {
        "id": "dc326cd3"
      },
      "outputs": [],
      "source": [
        "from tensorflow.keras.callbacks import LearningRateScheduler, EarlyStopping\n",
        "# Train the model\n",
        "# Define a learning rate schedule function\n",
        "def lr_schedule(epoch, lr):\n",
        "    if epoch < 10:\n",
        "        return float(lr)\n",
        "    else:\n",
        "        return float(lr * tf.math.exp(-0.1))\n",
        "\n",
        "# Learning rate scheduler callback\n",
        "lr_scheduler = LearningRateScheduler(lr_schedule)\n",
        "# rate starts at 0.001 and will decrease after 10 epochs\n",
        "\n",
        "# Early stopping callback\n",
        "# set to monitor val_loss with a patience of 5 epochs\n",
        "# means training will stop if the validation loss does not improve for 5 consecutive epochs\n",
        "early_stopping = EarlyStopping(monitor='val_loss', patience=5, restore_best_weights=True)\n",
        "\n",
        "# Train the model with callbacks\n",
        "history_eff = model_eff.fit(\n",
        "    train_set_rgb,\n",
        "    steps_per_epoch=train_set_rgb.samples // train_set_rgb.batch_size,\n",
        "    validation_data=validation_set_rgb,\n",
        "    validation_steps=validation_set_rgb.samples // validation_set_rgb.batch_size,\n",
        "    epochs=30,\n",
        "    callbacks=[early_stopping, lr_scheduler]\n",
        ")\n"
      ]
    },
    {
      "cell_type": "markdown",
      "metadata": {
        "id": "2xjrzYpgoQnN"
      },
      "source": [
        "### **Evaluating the EfficientnetNet Model**"
      ]
    },
    {
      "cell_type": "code",
      "execution_count": null,
      "metadata": {
        "id": "ddtj_mtQsDc7"
      },
      "outputs": [],
      "source": [
        "import numpy as np\n",
        "from sklearn.metrics import confusion_matrix\n",
        "# Make Predictions on test set\n",
        "test_pred_eff = model_eff.predict(test_set_rgb)\n",
        "# Will return array of probabilities for each class\n",
        "\n",
        "#For each image, returns index for highest probability class\n",
        "test_pred_eff = [np.argmax(i) for i in test_pred_eff]\n",
        "\n",
        "# Get true labels from the test set\n",
        "test_labels = test_set_rgb.classes\n",
        "\n",
        "# Generate confusion matrix\n",
        "cm = confusion_matrix(test_labels, test_pred_eff)"
      ]
    },
    {
      "cell_type": "code",
      "execution_count": null,
      "metadata": {
        "id": "J6cXKiBBsDc7"
      },
      "outputs": [],
      "source": [
        "import matplotlib.pyplot as plt\n",
        "import seaborn as sns\n",
        "from sklearn.metrics import classification_report\n",
        "# Evaluate performance on Test\n",
        "\n",
        "# Plot confusion matrix\n",
        "plt.figure(figsize=(10, 8))\n",
        "sns.heatmap(cm, annot=True, fmt='d', cmap='Blues', xticklabels=test_set_rgb.class_indices.keys(), yticklabels=test_set_rgb.class_indices.keys())\n",
        "plt.xlabel('Predicted')\n",
        "plt.ylabel('Actual')\n",
        "plt.title('Confusion Matrix')\n",
        "plt.show()\n",
        "\n",
        "# Print classification report\n",
        "print(classification_report(test_labels, test_pred_eff, target_names=test_set_rgb.class_indices.keys()))"
      ]
    },
    {
      "cell_type": "markdown",
      "metadata": {
        "id": "kWlk14FOoQnN"
      },
      "source": [
        "**Observations and Insights:**\n",
        "- This model performed the worse on the data and was not able to learn from the training data.\n",
        "- The classifier labeled all images as happy and had a validation accuracy of 0.\n",
        "- The f1 score for happy was 0.40, but that is only because all data points were classified as happy.\n",
        "\n",
        "**Note: You can even go back and build your own architecture on top of the VGG16 Transfer layer and see if you can improve the performance.**"
      ]
    },
    {
      "cell_type": "markdown",
      "metadata": {
        "id": "fk6QAcv5odNF"
      },
      "source": [
        "**Think About It:**\n",
        "\n",
        "* What is your overall performance of these Transfer Learning Architectures? Can we draw a comparison of these models' performances. Are we satisfied with the accuracies that we have received?\n",
        "    - The VGG16 model showed the best validation accuracy at .69. This is still lower than the models we created without the pretrained models.\n",
        "    - The ResNet model was not able to classify the emotion neutral. This is because the model has not been trained on that emotion.\n",
        "    - the EfficientNet model performed the worse with a validation accuracy of 0. This indicates the modeld was not able to learn effectively from the data.\n",
        "    - I am not satisfied with any of the pretrained models. We already generated a model that performs better than all the pretrained models.\n",
        "\n",
        "* Do you think our issue lies with 'rgb' color_mode?\n",
        "    - Yes, the data is in black in white while the pretrained model were trained on color images. This discrepency is not permitting the models to generalize on our dataset."
      ]
    },
    {
      "cell_type": "markdown",
      "metadata": {
        "id": "-EH3atQP8q_v"
      },
      "source": [
        "Now that we have tried multiple pre-trained models, let's build a complex CNN architecture and see if we can get better performance."
      ]
    },
    {
      "cell_type": "markdown",
      "metadata": {
        "id": "SjKlBaZDpWoV"
      },
      "source": [
        "## **Building a Complex Neural Network Architecture**"
      ]
    },
    {
      "cell_type": "markdown",
      "metadata": {
        "id": "-bMFUj3Fpe75"
      },
      "source": [
        "In this section, we will build a more complex Convolutional Neural Network Model that has close to as many parameters as we had in our Transfer Learning Models. However, we will have only 1 input channel for our input images."
      ]
    },
    {
      "cell_type": "markdown",
      "metadata": {
        "id": "ejGfyYSbtx-F"
      },
      "source": [
        "## **Creating our Data Loaders**\n",
        "\n",
        "In this section, we are creating data loaders which we will use as inputs to the more Complicated Convolutional Neural Network. We will go ahead with color_mode = 'grayscale'."
      ]
    },
    {
      "cell_type": "code",
      "execution_count": null,
      "metadata": {
        "id": "xj1hM5_ttx-F"
      },
      "outputs": [],
      "source": [
        "from tensorflow.keras.preprocessing.image import ImageDataGenerator #provides real-time data augmentation and preprocessing of image data\n",
        "\n",
        "batch_size  = 32 # number of images to work with at a time\n",
        "img_size = 48 # size of images\n",
        "folder_path = 'Facial_emotion_images/'\n",
        "\n",
        "# TRAINING SET\n",
        "# Define data augmentation and preprocessing\n",
        "datagen_train = ImageDataGenerator(horizontal_flip = True,\n",
        "                                   #  Randomly flips the images horizontally (Would not want to use if direction matters like text images)\n",
        "                                    brightness_range=(0.,2.),\n",
        "                                    # simulate different lighting conditions, make model more robust to variations in brightness. can be scaled down to 0 (completely dark) or up to 2 (twice as bright as the original).\n",
        "                                    rescale=1./255,\n",
        "                                    # Normalize pixel values to 0-1 scale. Max pixel value is 255 so this will divide all values by that.\n",
        "                                    # Helps make convergence happen quicker: Gradients during backpropagation are more balanced, preventing some weights from updating too quickly or too slowly\n",
        "                                    shear_range=0.3)\n",
        "                                    # shifting the pixels in a direction parallel to a given axis. simulates the effect on camera angle changing.\n",
        "\n",
        "# Load and augment training data\n",
        "train_set = datagen_train.flow_from_directory(folder_path + \"train\", # loads images from these subdirectories and assigns the corresponding class label based on the subdirectory name.\n",
        "                                              target_size = (img_size, img_size),\n",
        "                                              color_mode = 'grayscale' ,\n",
        "                                              batch_size = batch_size,\n",
        "                                              class_mode = 'categorical', # indicates that the labels are one-hot encoded.\n",
        "                                              shuffle = True) # shuffles the data at each epoch\n",
        "\n",
        "# TEST SET\n",
        "# Define data augmentation and preprocessing\n",
        "datagen_test = ImageDataGenerator(rescale=1./255) # Normalize pixel values to 0-1 scale. Max pixel value is 255 so this will divide all values by that.\n",
        "# The training set has significantly more preprocessing to increase its diversity and ability to deal with real world data\n",
        "# We will not perform the same augmentation sets on the test and validation sets to ensure the model is evaluated using real world data.\n",
        "\n",
        "\n",
        "# Load and augment training data\n",
        "test_set = datagen_test.flow_from_directory(folder_path + \"test\", # loads images from these subdirectories and assigns the corresponding class label based on the subdirectory name.\n",
        "                                              target_size = (img_size, img_size),\n",
        "                                              color_mode = 'grayscale' ,\n",
        "                                              batch_size = batch_size,\n",
        "                                              class_mode = 'categorical', # indicates that the labels are one-hot encoded.\n",
        "                                              shuffle = False) # Will not shuffle test or validation data\n",
        "\n",
        "# VALIDATION SET\n",
        "# Define data augmentation and preprocessing\n",
        "datagen_val = ImageDataGenerator(rescale=1./255) # Normalize pixel values to 0-1 scale. Max pixel value is 255 so this will divide all values by that.\n",
        "# The training set has significantly more preprocessing to increase its diversity and ability to deal with real world data\n",
        "# We will not perform the same augmentation sets on the test and validation sets to ensure the model is evaluated using real world data.\n",
        "\n",
        "\n",
        "# Load and augment training data\n",
        "validation_set = datagen_val.flow_from_directory(folder_path + \"validation\", # loads images from these subdirectories and assigns the corresponding class label based on the subdirectory name.\n",
        "                                              target_size = (img_size, img_size),\n",
        "                                              color_mode = 'grayscale' ,\n",
        "                                              batch_size = batch_size,\n",
        "                                              class_mode = 'categorical', # indicates that the labels are one-hot encoded.\n",
        "                                              shuffle = False) # Will not shuffle test or validation data"
      ]
    },
    {
      "cell_type": "markdown",
      "source": [
        "## **9. Complex CNN Model**"
      ],
      "metadata": {
        "id": "AcsCuzAiRAIS"
      }
    },
    {
      "cell_type": "markdown",
      "metadata": {
        "id": "Ft5U6f1Wie2R"
      },
      "source": [
        "### **Model Building**\n",
        "\n",
        "- Try building a layer with 5 Convolutional Blocks and see if performance increases."
      ]
    },
    {
      "cell_type": "code",
      "execution_count": null,
      "metadata": {
        "id": "37f9194d"
      },
      "outputs": [],
      "source": [
        "import tensorflow as tf\n",
        "from tensorflow.keras.models import Sequential\n",
        "from tensorflow.keras.layers import Conv2D, MaxPooling2D, Flatten, Dense, Dropout, BatchNormalization\n",
        "from tensorflow.keras.regularizers import l2\n",
        "from tensorflow.keras.callbacks import EarlyStopping, ReduceLROnPlateau\n",
        "\n",
        "def complex_cnn_model():\n",
        "    model = Sequential()\n",
        "\n",
        "    # First Convolutional Block\n",
        "    model.add(Conv2D(32, (3, 3), activation='relu', input_shape=(48, 48, 1)))\n",
        "    model.add(BatchNormalization())\n",
        "\n",
        "    # Second Convolutional Block\n",
        "    model.add(Conv2D(64, (3, 3), activation='relu', kernel_regularizer=l2(0.01)))\n",
        "    model.add(BatchNormalization())\n",
        "\n",
        "    # Third Convolutional Block\n",
        "    model.add(Conv2D(128, (3, 3), activation='relu', kernel_regularizer=l2(0.01)))\n",
        "    model.add(BatchNormalization())\n",
        "    model.add(MaxPooling2D(pool_size=(2, 2), padding='same'))\n",
        "\n",
        "    # Fourth Convolutional Block\n",
        "    model.add(Conv2D(256, (3, 3), activation='relu', kernel_regularizer=l2(0.01)))\n",
        "    model.add(BatchNormalization())\n",
        "\n",
        "    # Fifth Convolutional Block\n",
        "    model.add(Conv2D(512, (3, 3), activation='relu', kernel_regularizer=l2(0.01)))\n",
        "    model.add(BatchNormalization())\n",
        "    model.add(MaxPooling2D(pool_size=(2, 2), padding='same'))\n",
        "\n",
        "    # Flatten the output\n",
        "    model.add(Flatten())\n",
        "\n",
        "    # Fully connected layer\n",
        "    model.add(Dense(256, activation='relu', kernel_regularizer=l2(0.01)))\n",
        "    model.add(Dropout(0.3))\n",
        "    model.add(Dense(128, activation='relu', kernel_regularizer=l2(0.01)))\n",
        "    model.add(Dropout(0.3))\n",
        "    model.add(Dense(64, activation='relu', kernel_regularizer=l2(0.01)))\n",
        "    model.add(BatchNormalization())\n",
        "\n",
        "    # Output layer\n",
        "    model.add(Dense(4, activation='softmax'))\n",
        "\n",
        "    # Compile the model\n",
        "    model.compile(optimizer='adam',\n",
        "                  loss='categorical_crossentropy',\n",
        "                  metrics=['accuracy'])\n",
        "\n",
        "    return model"
      ]
    },
    {
      "cell_type": "code",
      "execution_count": null,
      "metadata": {
        "id": "E_oNLIydsDc9"
      },
      "outputs": [],
      "source": [
        "# Instantiate the model\n",
        "model_complex = complex_cnn_model()\n",
        "\n",
        "# Display the model's architecture\n",
        "model_complex.summary()"
      ]
    },
    {
      "cell_type": "markdown",
      "metadata": {
        "id": "fyc0B--hwTHS"
      },
      "source": [
        "### **Compiling and Training the Model**"
      ]
    },
    {
      "cell_type": "code",
      "execution_count": null,
      "metadata": {
        "id": "0edabf52"
      },
      "outputs": [],
      "source": [
        "# Callbacks\n",
        "early_stopping = EarlyStopping(monitor='val_loss', patience=5, restore_best_weights=True)\n",
        "reduce_lr = ReduceLROnPlateau(monitor='val_loss', factor=0.2, patience=3, min_lr=0.00001)\n",
        "\n",
        "# Training the model\n",
        "history = model_complex.fit(\n",
        "    train_set,\n",
        "    epochs=30,\n",
        "    validation_data=validation_set,\n",
        "    batch_size=32,\n",
        "    verbose=1,\n",
        "    callbacks=[early_stopping, reduce_lr]\n",
        ")"
      ]
    },
    {
      "cell_type": "code",
      "execution_count": null,
      "metadata": {
        "id": "HAdkjOUVsDc9"
      },
      "outputs": [],
      "source": [
        "import matplotlib.pyplot as plt\n",
        "plt.plot(history.history['accuracy'])\n",
        "plt.plot(history.history['val_accuracy'])\n",
        "plt.title('Model Accuracy')\n",
        "plt.ylabel('Accuracy')\n",
        "plt.xlabel('Epoch')\n",
        "plt.legend(['Train', 'Validation'], loc = 'upper left')\n",
        "\n",
        "plt.show()"
      ]
    },
    {
      "cell_type": "markdown",
      "metadata": {
        "id": "BbAqrAQQVjIR"
      },
      "source": [
        "### **Evaluating the Model on Test Set**"
      ]
    },
    {
      "cell_type": "code",
      "execution_count": null,
      "metadata": {
        "id": "uO26AYRuVm7F"
      },
      "outputs": [],
      "source": [
        "import numpy as np\n",
        "from sklearn.metrics import confusion_matrix\n",
        "# Make Predictions on test set\n",
        "test_pred = model_complex.predict(test_set)\n",
        "# Will return array of probabilities for each class\n",
        "\n",
        "#For each image, returns index for highest probability class\n",
        "test_pred = [np.argmax(i) for i in test_pred]\n",
        "\n",
        "# Get true labels from the test set\n",
        "test_labels = test_set.classes\n",
        "\n",
        "# Generate confusion matrix\n",
        "cm = confusion_matrix(test_labels, test_pred)"
      ]
    },
    {
      "cell_type": "markdown",
      "metadata": {
        "id": "81uYGSmHwxfD"
      },
      "source": [
        "**Observations and Insights:**\n",
        "- The training accuracy increased steadily, indicating that the model is learning effectively. However, the validation accuracy (75.79%) is lower than the training accuracy (83.10%), which may suggest some degree of overfitting.\n",
        "- The learning rate adjustments (from 0.001 to 0.00002) appear to have been effective, especially towards the end of training, where improvements in accuracy and reductions in loss became more consistent."
      ]
    },
    {
      "cell_type": "code",
      "execution_count": null,
      "metadata": {
        "id": "SFTRyIk-yjoQ"
      },
      "outputs": [],
      "source": [
        "import matplotlib.pyplot as plt\n",
        "import seaborn as sns\n",
        "from sklearn.metrics import classification_report\n",
        "# Evaluate performance on Test\n",
        "\n",
        "# Plot confusion matrix\n",
        "plt.figure(figsize=(10, 8))\n",
        "sns.heatmap(cm, annot=True, fmt='d', cmap='Blues', xticklabels=test_set.class_indices.keys(), yticklabels=test_set.class_indices.keys())\n",
        "plt.xlabel('Predicted')\n",
        "plt.ylabel('Actual')\n",
        "plt.title('Confusion Matrix')\n",
        "plt.show()\n",
        "\n",
        "# Save to upload to powerpoint\n",
        "plt.savefig('confusion_matrix.jpg', format='jpg')\n",
        "\n",
        "\n",
        "# Print classification report\n",
        "print(classification_report(test_labels, test_pred, target_names=test_set.class_indices.keys()))"
      ]
    },
    {
      "cell_type": "code",
      "source": [
        "import matplotlib.pyplot as plt\n",
        "import numpy as np\n",
        "\n",
        "# Percision scores from confusion matrix\n",
        "emotions = ['Happy', 'Neutral', 'Sad', 'Surprise']\n",
        "accuracies = [83, 80, 62, 100]\n",
        "\n",
        "# Create a bar chart\n",
        "plt.figure(figsize=(10, 6))\n",
        "bars = plt.bar(emotions, accuracies, color=['skyblue', 'lightgreen', 'salmon', 'gold'])\n",
        "\n",
        "# Adding labels\n",
        "plt.xlabel('Emotions', fontsize=14)\n",
        "plt.ylabel('Correct Predictions (%)', fontsize=14)\n",
        "plt.title('Emotion Detection Performance', fontsize=16)\n",
        "\n",
        "# Adding data labels\n",
        "for bar in bars:\n",
        "    yval = bar.get_height()\n",
        "    plt.text(bar.get_x() + bar.get_width()/2, yval + 1, f'{yval}%', ha='center', va='bottom')\n",
        "\n",
        "plt.tight_layout()\n",
        "\n",
        "# Save to upload to powerpoint\n",
        "plt.savefig('emotion_detection_performance.jpg', format='jpg')\n",
        "\n",
        "# Show the plot\n",
        "plt.show()"
      ],
      "metadata": {
        "id": "quQAJsI8Ixmx"
      },
      "execution_count": null,
      "outputs": []
    },
    {
      "cell_type": "code",
      "source": [
        "from google.colab import drive\n",
        "drive.mount('/content/drive')\n",
        "\n",
        "# After mounting, you can save the image like this\n",
        "image.save('/content/drive/MyDrive/path_to_save_image.jpg', 'JPEG')"
      ],
      "metadata": {
        "id": "Fb1rKVbmIiKX"
      },
      "execution_count": null,
      "outputs": []
    },
    {
      "cell_type": "markdown",
      "metadata": {
        "id": "LGgvpOrP8q_x"
      },
      "source": [
        "**Observations and Insights:**\n",
        "- The model performed exceptionally well in recognizing the surprise emotion, with a precision of 0.96 and an F1-score of 0.90. This suggests that it accurately identifies this emotion with very few false positives.\n",
        "- The sad category was the worst performing category with an F1 score of .69. In most other models, the Neutral category performed worse."
      ]
    },
    {
      "cell_type": "markdown",
      "source": [
        "## **10. CNN Model**"
      ],
      "metadata": {
        "id": "6n2ivIR8RZpe"
      }
    },
    {
      "cell_type": "markdown",
      "source": [
        "- Replace some activation functions with tanh"
      ],
      "metadata": {
        "id": "wKR6suv5izC8"
      }
    },
    {
      "cell_type": "code",
      "source": [
        "import tensorflow as tf\n",
        "from tensorflow.keras.models import Sequential\n",
        "from tensorflow.keras.layers import Conv2D, MaxPooling2D, Flatten, Dense, Dropout, BatchNormalization\n",
        "from tensorflow.keras.regularizers import l2\n",
        "from tensorflow.keras.callbacks import EarlyStopping, ReduceLROnPlateau\n",
        "\n",
        "def complex_cnn_model_2():\n",
        "    model = Sequential()\n",
        "\n",
        "    # First Convolutional Block\n",
        "    model.add(Conv2D(32, (3, 3), activation='relu', input_shape=(48, 48, 1)))\n",
        "    model.add(BatchNormalization())\n",
        "\n",
        "    # Second Convolutional Block\n",
        "    model.add(Conv2D(64, (3, 3), activation='relu', kernel_regularizer=l2(0.01)))\n",
        "    model.add(BatchNormalization())\n",
        "\n",
        "    # Third Convolutional Block\n",
        "    model.add(Conv2D(128, (3, 3), activation='relu', kernel_regularizer=l2(0.01)))\n",
        "    model.add(BatchNormalization())\n",
        "    model.add(MaxPooling2D(pool_size=(2, 2), padding='same'))\n",
        "\n",
        "    # Fourth Convolutional Block\n",
        "    model.add(Conv2D(256, (3, 3), activation='relu', kernel_regularizer=l2(0.01)))\n",
        "    model.add(BatchNormalization())\n",
        "\n",
        "    # Fifth Convolutional Block\n",
        "    model.add(Conv2D(512, (3, 3), activation='tanh', kernel_regularizer=l2(0.01)))\n",
        "    model.add(BatchNormalization())\n",
        "    model.add(MaxPooling2D(pool_size=(2, 2), padding='same'))\n",
        "\n",
        "    # Flatten the output\n",
        "    model.add(Flatten())\n",
        "\n",
        "    # Fully connected layer\n",
        "    model.add(Dense(256, activation='tanh', kernel_regularizer=l2(0.01)))\n",
        "    model.add(Dropout(0.3))\n",
        "    model.add(Dense(128, activation='tanh', kernel_regularizer=l2(0.01)))\n",
        "    model.add(Dropout(0.3))\n",
        "    model.add(Dense(64, activation='tanh', kernel_regularizer=l2(0.01)))\n",
        "    model.add(BatchNormalization())\n",
        "\n",
        "    # Output layer\n",
        "    model.add(Dense(4, activation='softmax'))\n",
        "\n",
        "    # Compile the model\n",
        "    model.compile(optimizer='adam',\n",
        "                  loss='categorical_crossentropy',\n",
        "                  metrics=['accuracy'])\n",
        "\n",
        "    return model"
      ],
      "metadata": {
        "id": "fg5zFK_8GDKv"
      },
      "execution_count": null,
      "outputs": []
    },
    {
      "cell_type": "code",
      "source": [
        "# Instantiate the model\n",
        "model_complex_2 = complex_cnn_model()\n",
        "\n",
        "# Display the model's architecture\n",
        "model_complex_2.summary()"
      ],
      "metadata": {
        "id": "sdbTeBVHG_wv"
      },
      "execution_count": null,
      "outputs": []
    },
    {
      "cell_type": "code",
      "source": [
        "# Callbacks\n",
        "early_stopping = EarlyStopping(monitor='val_loss', patience=5, restore_best_weights=True)\n",
        "reduce_lr = ReduceLROnPlateau(monitor='val_loss', factor=0.2, patience=3, min_lr=0.00001)\n",
        "\n",
        "# Training the model\n",
        "history = model_complex_2.fit(\n",
        "    train_set,\n",
        "    epochs=30,\n",
        "    validation_data=validation_set,\n",
        "    batch_size=32,\n",
        "    verbose=1,\n",
        "    callbacks=[early_stopping, reduce_lr]\n",
        ")"
      ],
      "metadata": {
        "id": "QVqsZoJpHMCh"
      },
      "execution_count": null,
      "outputs": []
    },
    {
      "cell_type": "markdown",
      "source": [
        "## **11. CNN Model**"
      ],
      "metadata": {
        "id": "fDZx1vJdRg-z"
      }
    },
    {
      "cell_type": "markdown",
      "source": [
        "# Next model Leaky ReLu"
      ],
      "metadata": {
        "id": "tSpxTWGYdway"
      }
    },
    {
      "cell_type": "code",
      "source": [
        "from tensorflow.keras.layers import LeakyReLU\n",
        "import tensorflow as tf\n",
        "from tensorflow.keras.models import Sequential\n",
        "from tensorflow.keras.layers import Conv2D, MaxPooling2D, Flatten, Dense, Dropout, BatchNormalization\n",
        "from tensorflow.keras.regularizers import l2\n",
        "from tensorflow.keras.callbacks import EarlyStopping, ReduceLROnPlateau\n",
        "\n",
        "def leaky_cnn_model():\n",
        "    model = Sequential()\n",
        "\n",
        "    # First Convolutional Block\n",
        "    model.add(Conv2D(32, (3, 3), activation='linear', input_shape=(48, 48, 1), padding='same', kernel_regularizer=l2(0.001)))\n",
        "    model.add(LeakyReLU(alpha=0.1))  # Apply LeakyReLU after Conv2D\n",
        "    model.add(BatchNormalization())\n",
        "    model.add(MaxPooling2D(pool_size=(2, 2)))\n",
        "\n",
        "    # Second Convolutional Block\n",
        "    model.add(Conv2D(64, (3, 3), activation='linear', padding='same', kernel_regularizer=l2(0.001)))\n",
        "    model.add(LeakyReLU(alpha=0.1))  # Apply LeakyReLU after Conv2D\n",
        "    model.add(BatchNormalization())\n",
        "    model.add(MaxPooling2D(pool_size=(2, 2)))\n",
        "\n",
        "    # Third Convolutional Block\n",
        "    model.add(Conv2D(128, (3, 3), activation='linear', padding='same', kernel_regularizer=l2(0.001)))\n",
        "    model.add(LeakyReLU(alpha=0.1))  # Apply LeakyReLU after Conv2D\n",
        "    model.add(BatchNormalization())\n",
        "    model.add(MaxPooling2D(pool_size=(2, 2)))\n",
        "\n",
        "    # Flatten and Dense Layers\n",
        "    model.add(Flatten())\n",
        "    model.add(Dense(128, activation='linear', kernel_regularizer=l2(0.001)))\n",
        "    model.add(LeakyReLU(alpha=0.1))  # Apply LeakyReLU after Dense\n",
        "    model.add(BatchNormalization())\n",
        "    model.add(Dropout(0.5))\n",
        "    model.add(Dense(4, activation='softmax'))  # Output layer with 7 classes (emotions)\n",
        "\n",
        "\n",
        "      # Compile the model\n",
        "    model.compile(optimizer='adam',\n",
        "                  loss='categorical_crossentropy',\n",
        "                  metrics=['accuracy'])\n",
        "    return model"
      ],
      "metadata": {
        "id": "XEm-GRvtd1eA"
      },
      "execution_count": null,
      "outputs": []
    },
    {
      "cell_type": "code",
      "source": [
        "# Instantiate the model\n",
        "leaky_cnn = leaky_cnn_model()\n",
        "\n",
        "# Display the model's architecture\n",
        "leaky_cnn.summary()\n",
        "\n",
        "## Training\n",
        "\n",
        "# Callbacks\n",
        "early_stopping = EarlyStopping(monitor='val_loss', patience=5, restore_best_weights=True)\n",
        "reduce_lr = ReduceLROnPlateau(monitor='val_loss', factor=0.2, patience=3, min_lr=0.00001)\n",
        "\n",
        "# Training the model\n",
        "history = leaky_cnn.fit(\n",
        "    train_set,\n",
        "    epochs=30,\n",
        "    validation_data=validation_set,\n",
        "    batch_size=32,\n",
        "    verbose=1,\n",
        "    callbacks=[early_stopping, reduce_lr] )"
      ],
      "metadata": {
        "id": "Z6Nihcf1eIEp"
      },
      "execution_count": null,
      "outputs": []
    },
    {
      "cell_type": "markdown",
      "source": [
        "# **Executive Summary**"
      ],
      "metadata": {
        "id": "ULYdchtQZnqq"
      }
    },
    {
      "cell_type": "markdown",
      "metadata": {
        "id": "MEZPA_mN0tUo"
      },
      "source": [
        "### **Refined insights**:\n",
        "- What are the most meaningful insights from the data relevant to the problem?\n",
        "    - Emotion Detection Performance: The surprise category showed the highest detection accuracy across most models, despite having limited data. This suggests that surprise expressions might be more visually distinct, making them easier to classify.\n",
        "\n",
        "    - Challenges with Sad and Neutral Categories: Distinguishing between sad and neutral categories proved difficult. This indicates a need for more targeted data collection to enhance model training and improve accuracy for these classes.\n",
        "    - We can look to our specific use case to determine the significance of this weekness. For example, in mental health diagnosis, it will certainly be important to distingish between sad and neural emotions. In the case of a restaurant trying to identify which products increase customer satisfaction, then it will not be important to detect sadness.\n",
        "\n",
        "\n",
        "\n",
        "### **Comparison of various techniques and their relative performance**:\n",
        "- How do different techniques perform? Which one is performing relatively better? Is there scope to improve the performance further?\n",
        "    - **The best performing model was the complex cnn model**: This model achieved the highest accuracy and F1 score among the models tested, indicating its effectiveness in classifying facial emotions. While it showed signs of overfitting, this was a common issue across other models as well, suggesting a need for regularization or more data.\n",
        "    - The use of greyscale significantly enhanced model performance, aligning well with the black-and-white nature of the data. This adaptation allowed the model to better capture the relevant features in the images.\n",
        "    - This choice also limited the effectiveness of pretrained models, as they typically expect RGB input, which does not align with the greyscale format of the dataset.\n",
        "    - The best performing pretrained model was the VGG16 model which ended with a validation accuracy of 69%. The pretrained model was actually better at characterizing the validation data than the training data. This could be because the black and white images were being represented by the rgb color channels.\n",
        "    - The EfficientNetV2B2 model performed the worse on the validation data as it did not properly classify any of the categories other than happy. EfficientNet was trained on ImageNet images. This set contains a wide variety of objects and scenes, but it doesn’t include facial expressions or emotional cues. This model had not been trained for the intended need of this project.\n",
        "\n",
        "### **Proposal for the final solution design**:\n",
        "- What model do you propose to be adopted? Why is this the best solution to adopt?\n",
        "  - The complex CNN model stands out as the most effective approach, demonstrating superior accuracy and F1 scores compared to both pretrained models and traditional approaches.\n",
        "  - While the complex CNN model is strong, addressing overfitting through regularization techniques, gathering more data, and potentially exploring more tailored pretrained models could further enhance performance.\n",
        "  - Since many of the models demonstrated similar challenges with the sadness category, it may be worth weighting that category in the training. We could try techniques like undersampling to equalize the datasets from the training data.\n",
        "  - We might also try using pretrained models that are better suited for emotion recognition like MobileNet.\n",
        "  - We could continue to tweak the model design and hyperparameters to maximize the performance of the model.\n"
      ]
    },
    {
      "cell_type": "markdown",
      "source": [
        "# **Problem and Solution Summary**"
      ],
      "metadata": {
        "id": "iIyqMoZDZvO3"
      }
    },
    {
      "cell_type": "markdown",
      "source": [
        "## Problem\n",
        "- In today’s competitive retail environment, understanding customer emotions and reactions in real-time can significantly enhance customer experience and drive sales. However, traditional feedback mechanisms, such as surveys and focus groups, are often slow and limited in scope. Retailers need a more efficient way to gauge customer sentiment as they interact with products, particularly during product launches or promotional events.\n",
        "\n",
        "## Solution design\n",
        "- To address this challenge, we propose implementing a deep learning-based emotion detection system that analyzes video footage from retail environments. This system will process videos in real-time, identifying customer emotions—such as happiness, surprise, sadness, and neutrality—based on facial expressions. The solution leverages a convolutional neural network (CNN) model trained on a dataset of facial expressions, designed to work with grayscale images of size 48x48 pixels for efficiency.\n",
        "\n",
        "##Business Impact\n",
        "- Implementing this emotion detection system would revolutionize how retailers gather and respond to customer feedback. By understanding customer emotions in real-time, businesses can:\n",
        "  - Tailor marketing strategies and product placements based on emotional responses, leading to a more engaging shopping experience.\n",
        "  - Quickly assess customer reactions to new products and adjust strategies accordingly, maximizing the chances of a successful launch.\n",
        "  - Provide actionable insights derived from customer sentiment analysis, allowing for informed business strategies and enhanced operational efficiency.\n",
        "\n",
        "By adopting this innovative solution, retailers can stay ahead of the competition, improve customer satisfaction, and ultimately drive revenue growth.\n"
      ],
      "metadata": {
        "id": "jvmHTQzHPreU"
      }
    },
    {
      "cell_type": "markdown",
      "source": [
        "# **Recomendations for Implementation**"
      ],
      "metadata": {
        "id": "fYqKQJfsbfQV"
      }
    },
    {
      "cell_type": "markdown",
      "source": [
        "## Deployment\n",
        "- We can use AWS cloud services to deploy this technology for a sales team. They can analyze in store videos of customers to inform decisions about products.\n",
        "- Utilizing AWS's pay-as-you-go model allows the sales team to adapt resource usage based on demand. For instance, during a new product launch, they can scale up resources to monitor customer interactions and experiences in real time.\n",
        "- Since our analysis does not require edge computing capabilities, a region-based deployment is unnecessary. The Local Zone will provide the optimal balance of performance and efficiency for our specific application needs.\n",
        "- We can deploy for one store as a pilot and scale to more stores with success. This can be easily scaled using additional EC2 instances.\n",
        "\n",
        "- This model could run 12 hours worth of store video within 5 min and could be set to run at the end of the day so that the data is ready to view by the sales team the next day.\n",
        "- It would need about 6 GB of memory to hold the model and a days worth of videos.\n",
        "  - Total Frames=Frame Rate×Duration\n",
        "  - Total Frames=30 FPS×3600 sec/hr×24 hr=2,592,000 frames\n",
        "  - Assume grayscale images use 1 byte and we have images 48 x 48 pixels is about 2,304 bytes.\n",
        "  - x 2,592,000 frames = 5,952,000,000 bytes or about 5.5 GB\n",
        "- The model would take about 5 min to run per days worth og video\n",
        "  - 27 ms / 128 images ≈ 0.211 ms per image\n",
        "  - Total frames = 30 frames/sec × 60 sec/min × 60 min/hr = 108,000 frames/hr*12 hours\n",
        "  - = 1,296,000 frames/day\n",
        "  - 1,296,000 frames×0.211 ms/frame * 273,456 ms/1000 * 273.5 seconds/60 4.56 min\n",
        "\n",
        "## Risks/Challenges\n",
        "- The current dataset is limited to four emotions. Expanding the model to detect a broader range of emotions, such as disgust and confusion, may enhance its applicability in real-world scenarios.\n",
        "- The model currently does not relate detected emotions to specific items or products. Layering additional models that can identify items customers are looking at could provide valuable insights into how product interactions influence emotions.\n",
        "- Model may be overfitting the data. Though the training and validaiton accuracies were similar, we only tested the data on 32 images per category. We could do additional training using real in store images to perfect the model and improve its performance.\n",
        "-  Latency in processing video streams could hinder real-time applications, therefore we recomend the nightly running of the model for use by marketing and sales teams.\n",
        "- Collecting and processing video data may raise privacy issues among customers. Implementing measures to anonymize data and comply with regulations like GDPR. Non-compliance with legal and ethical guidelines can lead to penalties.\n",
        "- The dataset predominantly features images of females and individuals from certain demographics. This bias could impact the model's ability to accurately identify emotions across diverse customer groups.\n",
        "\n",
        "\n",
        "  # Further action\n",
        "  - Collect and include images that represent a wider range of emotions, such as disgust, confusion, and surprise, to enhance the model's capability.\n",
        "  - Conduct tests in actual retail environments using live video feeds to evaluate model performance and accuracy under real-world conditions.\n",
        "  - Modify the system archetucture to accept video data and deploy onto a scalable EC2 instance.\n",
        "  - Develop robust methods for anonymizing video data to ensure customer privacy and compliance with regulations.\n",
        "  - Develop an additional model to identify and track products or items in the frame, correlating them with detected emotions to provide deeper insights. Develop situational awareness to that the model can fully understand the context of the emotion. It should be able to detect whether the emotion specifically relates to a product or is unrelated.\n"
      ],
      "metadata": {
        "id": "tfjJrcsbbmct"
      }
    }
  ],
  "metadata": {
    "colab": {
      "provenance": [],
      "gpuType": "T4",
      "include_colab_link": true
    },
    "kernelspec": {
      "display_name": "Python 3",
      "name": "python3"
    },
    "language_info": {
      "codemirror_mode": {
        "name": "ipython",
        "version": 3
      },
      "file_extension": ".py",
      "mimetype": "text/x-python",
      "name": "python",
      "nbconvert_exporter": "python",
      "pygments_lexer": "ipython3",
      "version": "3.11.3"
    },
    "accelerator": "GPU"
  },
  "nbformat": 4,
  "nbformat_minor": 0
}